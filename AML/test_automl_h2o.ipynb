{
 "cells": [
  {
   "cell_type": "markdown",
   "id": "fd825660-2848-4d7e-a9c8-a18961120d51",
   "metadata": {
    "id": "fd825660-2848-4d7e-a9c8-a18961120d51"
   },
   "source": [
    "# Test Auto ML H2O"
   ]
  },
  {
   "cell_type": "markdown",
   "id": "778f2a51-9f62-41b2-9369-c415640ef7c2",
   "metadata": {
    "id": "778f2a51-9f62-41b2-9369-c415640ef7c2"
   },
   "source": [
    "## Installation des packages nécessaires"
   ]
  },
  {
   "cell_type": "code",
   "execution_count": 3,
   "id": "2b3e6e22-a7bf-46d3-9bfc-f03049890303",
   "metadata": {
    "colab": {
     "base_uri": "https://localhost:8080/"
    },
    "executionInfo": {
     "elapsed": 64060,
     "status": "ok",
     "timestamp": 1729768510063,
     "user": {
      "displayName": "Thierno Amadou Diallo",
      "userId": "03010582142303045952"
     },
     "user_tz": -120
    },
    "id": "2b3e6e22-a7bf-46d3-9bfc-f03049890303",
    "outputId": "4e89a148-e97a-4bd9-bfea-af85a109b856"
   },
   "outputs": [
    {
     "name": "stdout",
     "output_type": "stream",
     "text": [
      "Collecting lazypredict\n",
      "  Downloading lazypredict-0.2.12-py2.py3-none-any.whl.metadata (12 kB)\n",
      "Requirement already satisfied: click in /usr/local/lib/python3.10/dist-packages (from lazypredict) (8.1.7)\n",
      "Requirement already satisfied: scikit-learn in /usr/local/lib/python3.10/dist-packages (from lazypredict) (1.5.2)\n",
      "Requirement already satisfied: pandas in /usr/local/lib/python3.10/dist-packages (from lazypredict) (2.2.2)\n",
      "Requirement already satisfied: tqdm in /usr/local/lib/python3.10/dist-packages (from lazypredict) (4.66.5)\n",
      "Requirement already satisfied: joblib in /usr/local/lib/python3.10/dist-packages (from lazypredict) (1.4.2)\n",
      "Requirement already satisfied: lightgbm in /usr/local/lib/python3.10/dist-packages (from lazypredict) (4.5.0)\n",
      "Requirement already satisfied: xgboost in /usr/local/lib/python3.10/dist-packages (from lazypredict) (2.1.1)\n",
      "Requirement already satisfied: numpy>=1.17.0 in /usr/local/lib/python3.10/dist-packages (from lightgbm->lazypredict) (1.26.4)\n",
      "Requirement already satisfied: scipy in /usr/local/lib/python3.10/dist-packages (from lightgbm->lazypredict) (1.13.1)\n",
      "Requirement already satisfied: python-dateutil>=2.8.2 in /usr/local/lib/python3.10/dist-packages (from pandas->lazypredict) (2.8.2)\n",
      "Requirement already satisfied: pytz>=2020.1 in /usr/local/lib/python3.10/dist-packages (from pandas->lazypredict) (2024.2)\n",
      "Requirement already satisfied: tzdata>=2022.7 in /usr/local/lib/python3.10/dist-packages (from pandas->lazypredict) (2024.2)\n",
      "Requirement already satisfied: threadpoolctl>=3.1.0 in /usr/local/lib/python3.10/dist-packages (from scikit-learn->lazypredict) (3.5.0)\n",
      "Requirement already satisfied: nvidia-nccl-cu12 in /usr/local/lib/python3.10/dist-packages (from xgboost->lazypredict) (2.23.4)\n",
      "Requirement already satisfied: six>=1.5 in /usr/local/lib/python3.10/dist-packages (from python-dateutil>=2.8.2->pandas->lazypredict) (1.16.0)\n",
      "Downloading lazypredict-0.2.12-py2.py3-none-any.whl (12 kB)\n",
      "Installing collected packages: lazypredict\n",
      "Successfully installed lazypredict-0.2.12\n",
      "Collecting h2o\n",
      "  Downloading h2o-3.46.0.5.tar.gz (265.6 MB)\n",
      "\u001b[2K     \u001b[90m━━━━━━━━━━━━━━━━━━━━━━━━━━━━━━━━━━━━━━━━\u001b[0m \u001b[32m265.6/265.6 MB\u001b[0m \u001b[31m3.5 MB/s\u001b[0m eta \u001b[36m0:00:00\u001b[0m\n",
      "\u001b[?25h  Preparing metadata (setup.py) ... \u001b[?25l\u001b[?25hdone\n",
      "Requirement already satisfied: requests in /usr/local/lib/python3.10/dist-packages (from h2o) (2.32.3)\n",
      "Requirement already satisfied: tabulate in /usr/local/lib/python3.10/dist-packages (from h2o) (0.9.0)\n",
      "Requirement already satisfied: charset-normalizer<4,>=2 in /usr/local/lib/python3.10/dist-packages (from requests->h2o) (3.4.0)\n",
      "Requirement already satisfied: idna<4,>=2.5 in /usr/local/lib/python3.10/dist-packages (from requests->h2o) (3.10)\n",
      "Requirement already satisfied: urllib3<3,>=1.21.1 in /usr/local/lib/python3.10/dist-packages (from requests->h2o) (2.2.3)\n",
      "Requirement already satisfied: certifi>=2017.4.17 in /usr/local/lib/python3.10/dist-packages (from requests->h2o) (2024.8.30)\n",
      "Building wheels for collected packages: h2o\n",
      "  Building wheel for h2o (setup.py) ... \u001b[?25l\u001b[?25hdone\n",
      "  Created wheel for h2o: filename=h2o-3.46.0.5-py2.py3-none-any.whl size=265646558 sha256=f7c991180f32f64f6719472bf07e8b1688d451820a1c57cc7062bf2f5665799f\n",
      "  Stored in directory: /root/.cache/pip/wheels/1a/46/4f/9b366522399306d7849672d58aefb44c9b73378d710bde2853\n",
      "Successfully built h2o\n",
      "Installing collected packages: h2o\n",
      "Successfully installed h2o-3.46.0.5\n",
      "Collecting tpot\n",
      "  Downloading TPOT-0.12.2-py3-none-any.whl.metadata (2.0 kB)\n",
      "Requirement already satisfied: numpy>=1.16.3 in /usr/local/lib/python3.10/dist-packages (from tpot) (1.26.4)\n",
      "Requirement already satisfied: scipy>=1.3.1 in /usr/local/lib/python3.10/dist-packages (from tpot) (1.13.1)\n",
      "Requirement already satisfied: scikit-learn>=1.4.1 in /usr/local/lib/python3.10/dist-packages (from tpot) (1.5.2)\n",
      "Collecting deap>=1.2 (from tpot)\n",
      "  Downloading deap-1.4.1-cp310-cp310-manylinux_2_5_x86_64.manylinux1_x86_64.manylinux_2_17_x86_64.manylinux2014_x86_64.whl.metadata (13 kB)\n",
      "Collecting update-checker>=0.16 (from tpot)\n",
      "  Downloading update_checker-0.18.0-py3-none-any.whl.metadata (2.3 kB)\n",
      "Requirement already satisfied: tqdm>=4.36.1 in /usr/local/lib/python3.10/dist-packages (from tpot) (4.66.5)\n",
      "Collecting stopit>=1.1.1 (from tpot)\n",
      "  Downloading stopit-1.1.2.tar.gz (18 kB)\n",
      "  Preparing metadata (setup.py) ... \u001b[?25l\u001b[?25hdone\n",
      "Requirement already satisfied: pandas>=0.24.2 in /usr/local/lib/python3.10/dist-packages (from tpot) (2.2.2)\n",
      "Requirement already satisfied: joblib>=0.13.2 in /usr/local/lib/python3.10/dist-packages (from tpot) (1.4.2)\n",
      "Requirement already satisfied: xgboost>=1.1.0 in /usr/local/lib/python3.10/dist-packages (from tpot) (2.1.1)\n",
      "Requirement already satisfied: python-dateutil>=2.8.2 in /usr/local/lib/python3.10/dist-packages (from pandas>=0.24.2->tpot) (2.8.2)\n",
      "Requirement already satisfied: pytz>=2020.1 in /usr/local/lib/python3.10/dist-packages (from pandas>=0.24.2->tpot) (2024.2)\n",
      "Requirement already satisfied: tzdata>=2022.7 in /usr/local/lib/python3.10/dist-packages (from pandas>=0.24.2->tpot) (2024.2)\n",
      "Requirement already satisfied: threadpoolctl>=3.1.0 in /usr/local/lib/python3.10/dist-packages (from scikit-learn>=1.4.1->tpot) (3.5.0)\n",
      "Requirement already satisfied: requests>=2.3.0 in /usr/local/lib/python3.10/dist-packages (from update-checker>=0.16->tpot) (2.32.3)\n",
      "Requirement already satisfied: nvidia-nccl-cu12 in /usr/local/lib/python3.10/dist-packages (from xgboost>=1.1.0->tpot) (2.23.4)\n",
      "Requirement already satisfied: six>=1.5 in /usr/local/lib/python3.10/dist-packages (from python-dateutil>=2.8.2->pandas>=0.24.2->tpot) (1.16.0)\n",
      "Requirement already satisfied: charset-normalizer<4,>=2 in /usr/local/lib/python3.10/dist-packages (from requests>=2.3.0->update-checker>=0.16->tpot) (3.4.0)\n",
      "Requirement already satisfied: idna<4,>=2.5 in /usr/local/lib/python3.10/dist-packages (from requests>=2.3.0->update-checker>=0.16->tpot) (3.10)\n",
      "Requirement already satisfied: urllib3<3,>=1.21.1 in /usr/local/lib/python3.10/dist-packages (from requests>=2.3.0->update-checker>=0.16->tpot) (2.2.3)\n",
      "Requirement already satisfied: certifi>=2017.4.17 in /usr/local/lib/python3.10/dist-packages (from requests>=2.3.0->update-checker>=0.16->tpot) (2024.8.30)\n",
      "Downloading TPOT-0.12.2-py3-none-any.whl (87 kB)\n",
      "\u001b[2K   \u001b[90m━━━━━━━━━━━━━━━━━━━━━━━━━━━━━━━━━━━━━━━━\u001b[0m \u001b[32m87.4/87.4 kB\u001b[0m \u001b[31m3.8 MB/s\u001b[0m eta \u001b[36m0:00:00\u001b[0m\n",
      "\u001b[?25hDownloading deap-1.4.1-cp310-cp310-manylinux_2_5_x86_64.manylinux1_x86_64.manylinux_2_17_x86_64.manylinux2014_x86_64.whl (135 kB)\n",
      "\u001b[2K   \u001b[90m━━━━━━━━━━━━━━━━━━━━━━━━━━━━━━━━━━━━━━━━\u001b[0m \u001b[32m135.4/135.4 kB\u001b[0m \u001b[31m5.9 MB/s\u001b[0m eta \u001b[36m0:00:00\u001b[0m\n",
      "\u001b[?25hDownloading update_checker-0.18.0-py3-none-any.whl (7.0 kB)\n",
      "Building wheels for collected packages: stopit\n",
      "  Building wheel for stopit (setup.py) ... \u001b[?25l\u001b[?25hdone\n",
      "  Created wheel for stopit: filename=stopit-1.1.2-py3-none-any.whl size=11939 sha256=136b43257d5a7ec49d5c7cd401d87540f8816c478096b8cfc6102de95098fae0\n",
      "  Stored in directory: /root/.cache/pip/wheels/af/f9/87/bf5b3d565c2a007b4dae9d8142dccc85a9f164e517062dd519\n",
      "Successfully built stopit\n",
      "Installing collected packages: stopit, deap, update-checker, tpot\n",
      "Successfully installed deap-1.4.1 stopit-1.1.2 tpot-0.12.2 update-checker-0.18.0\n"
     ]
    }
   ],
   "source": [
    "#!pip install h2o"
   ]
  },
  {
   "cell_type": "markdown",
   "id": "18cf48c0-1c2b-4ccb-add2-b3754797995f",
   "metadata": {
    "id": "18cf48c0-1c2b-4ccb-add2-b3754797995f"
   },
   "source": [
    "## Téléchargement du fichier"
   ]
  },
  {
   "cell_type": "markdown",
   "id": "d958d3bb-f9be-494d-b3fc-7ad2c1d045c2",
   "metadata": {
    "id": "d958d3bb-f9be-494d-b3fc-7ad2c1d045c2"
   },
   "source": [
    "## Récupération des packages nécessaires"
   ]
  },
  {
   "cell_type": "code",
   "execution_count": 5,
   "id": "ecf5e8c3-a30e-45b6-8320-3b9f6268b1cc",
   "metadata": {
    "colab": {
     "base_uri": "https://localhost:8080/",
     "height": 378
    },
    "executionInfo": {
     "elapsed": 5547,
     "status": "ok",
     "timestamp": 1729768599003,
     "user": {
      "displayName": "Thierno Amadou Diallo",
      "userId": "03010582142303045952"
     },
     "user_tz": -120
    },
    "id": "ecf5e8c3-a30e-45b6-8320-3b9f6268b1cc",
    "outputId": "c82c7d5a-2bf1-45a5-9e0a-d0429e7c14bd"
   },
   "outputs": [
    {
     "name": "stdout",
     "output_type": "stream",
     "text": [
      "Checking whether there is an H2O instance running at http://localhost:54321. connected.\n"
     ]
    },
    {
     "data": {
      "text/html": [
       "\n",
       "<style>\n",
       "\n",
       "#h2o-table-2.h2o-container {\n",
       "  overflow-x: auto;\n",
       "}\n",
       "#h2o-table-2 .h2o-table {\n",
       "  /* width: 100%; */\n",
       "  margin-top: 1em;\n",
       "  margin-bottom: 1em;\n",
       "}\n",
       "#h2o-table-2 .h2o-table caption {\n",
       "  white-space: nowrap;\n",
       "  caption-side: top;\n",
       "  text-align: left;\n",
       "  /* margin-left: 1em; */\n",
       "  margin: 0;\n",
       "  font-size: larger;\n",
       "}\n",
       "#h2o-table-2 .h2o-table thead {\n",
       "  white-space: nowrap; \n",
       "  position: sticky;\n",
       "  top: 0;\n",
       "  box-shadow: 0 -1px inset;\n",
       "}\n",
       "#h2o-table-2 .h2o-table tbody {\n",
       "  overflow: auto;\n",
       "}\n",
       "#h2o-table-2 .h2o-table th,\n",
       "#h2o-table-2 .h2o-table td {\n",
       "  text-align: right;\n",
       "  /* border: 1px solid; */\n",
       "}\n",
       "#h2o-table-2 .h2o-table tr:nth-child(even) {\n",
       "  /* background: #F5F5F5 */\n",
       "}\n",
       "\n",
       "</style>      \n",
       "<div id=\"h2o-table-2\" class=\"h2o-container\">\n",
       "  <table class=\"h2o-table\">\n",
       "    <caption></caption>\n",
       "    <thead></thead>\n",
       "    <tbody><tr><td>H2O_cluster_uptime:</td>\n",
       "<td>56 secs</td></tr>\n",
       "<tr><td>H2O_cluster_timezone:</td>\n",
       "<td>Etc/UTC</td></tr>\n",
       "<tr><td>H2O_data_parsing_timezone:</td>\n",
       "<td>UTC</td></tr>\n",
       "<tr><td>H2O_cluster_version:</td>\n",
       "<td>3.46.0.5</td></tr>\n",
       "<tr><td>H2O_cluster_version_age:</td>\n",
       "<td>1 month and 24 days</td></tr>\n",
       "<tr><td>H2O_cluster_name:</td>\n",
       "<td>H2O_from_python_unknownUser_ooczfk</td></tr>\n",
       "<tr><td>H2O_cluster_total_nodes:</td>\n",
       "<td>1</td></tr>\n",
       "<tr><td>H2O_cluster_free_memory:</td>\n",
       "<td>3.170 Gb</td></tr>\n",
       "<tr><td>H2O_cluster_total_cores:</td>\n",
       "<td>2</td></tr>\n",
       "<tr><td>H2O_cluster_allowed_cores:</td>\n",
       "<td>2</td></tr>\n",
       "<tr><td>H2O_cluster_status:</td>\n",
       "<td>locked, healthy</td></tr>\n",
       "<tr><td>H2O_connection_url:</td>\n",
       "<td>http://localhost:54321</td></tr>\n",
       "<tr><td>H2O_connection_proxy:</td>\n",
       "<td>{\"http\": null, \"https\": null, \"colab_language_server\": \"/usr/colab/bin/language_service\"}</td></tr>\n",
       "<tr><td>H2O_internal_security:</td>\n",
       "<td>False</td></tr>\n",
       "<tr><td>Python_version:</td>\n",
       "<td>3.10.12 final</td></tr></tbody>\n",
       "  </table>\n",
       "</div>\n"
      ],
      "text/plain": [
       "--------------------------  -----------------------------------------------------------------------------------------\n",
       "H2O_cluster_uptime:         56 secs\n",
       "H2O_cluster_timezone:       Etc/UTC\n",
       "H2O_data_parsing_timezone:  UTC\n",
       "H2O_cluster_version:        3.46.0.5\n",
       "H2O_cluster_version_age:    1 month and 24 days\n",
       "H2O_cluster_name:           H2O_from_python_unknownUser_ooczfk\n",
       "H2O_cluster_total_nodes:    1\n",
       "H2O_cluster_free_memory:    3.170 Gb\n",
       "H2O_cluster_total_cores:    2\n",
       "H2O_cluster_allowed_cores:  2\n",
       "H2O_cluster_status:         locked, healthy\n",
       "H2O_connection_url:         http://localhost:54321\n",
       "H2O_connection_proxy:       {\"http\": null, \"https\": null, \"colab_language_server\": \"/usr/colab/bin/language_service\"}\n",
       "H2O_internal_security:      False\n",
       "Python_version:             3.10.12 final\n",
       "--------------------------  -----------------------------------------------------------------------------------------"
      ]
     },
     "metadata": {},
     "output_type": "display_data"
    }
   ],
   "source": [
    "import h2o\n",
    "h2o.init()\n",
    "from h2o.automl import H2OAutoML\n",
    "import pandas as pd\n",
    "import numpy as np\n",
    "import lazypredict\n",
    "from lazypredict.Supervised import LazyRegressor\n",
    "import matplotlib.pyplot as plt\n",
    "import seaborn as sns\n",
    "from   tpot  import TPOTRegressor, TPOTClassifier\n",
    "from   sklearn.model_selection import train_test_split, RepeatedStratifiedKFold\n",
    "df_vegetable = pd.read_csv('Vegetable_market.csv')"
   ]
  },
  {
   "cell_type": "markdown",
   "id": "6c96a62f-2437-46e1-a7d9-fb4d4aed3784",
   "metadata": {
    "id": "6c96a62f-2437-46e1-a7d9-fb4d4aed3784"
   },
   "source": [
    "## Analyse des données"
   ]
  },
  {
   "cell_type": "markdown",
   "id": "00a95071-1719-42e8-afc4-14a68c079639",
   "metadata": {
    "id": "00a95071-1719-42e8-afc4-14a68c079639"
   },
   "source": [
    "### Extrait du jeu de données"
   ]
  },
  {
   "cell_type": "code",
   "execution_count": 6,
   "id": "b4e1dc3d-57f6-475c-a319-52fbc9872c48",
   "metadata": {
    "colab": {
     "base_uri": "https://localhost:8080/",
     "height": 0
    },
    "executionInfo": {
     "elapsed": 416,
     "status": "ok",
     "timestamp": 1729768606736,
     "user": {
      "displayName": "Thierno Amadou Diallo",
      "userId": "03010582142303045952"
     },
     "user_tz": -120
    },
    "id": "b4e1dc3d-57f6-475c-a319-52fbc9872c48",
    "outputId": "b1eea72e-e8c1-432e-ca58-954307bf3486"
   },
   "outputs": [
    {
     "data": {
      "application/vnd.google.colaboratory.intrinsic+json": {
       "summary": "{\n  \"name\": \"df_vegetable\",\n  \"rows\": 121,\n  \"fields\": [\n    {\n      \"column\": \"Vegetable\",\n      \"properties\": {\n        \"dtype\": \"category\",\n        \"num_unique_values\": 17,\n        \"samples\": [\n          \"potato\",\n          \"tomato \",\n          \"pointed grourd \"\n        ],\n        \"semantic_type\": \"\",\n        \"description\": \"\"\n      }\n    },\n    {\n      \"column\": \"Season\",\n      \"properties\": {\n        \"dtype\": \"category\",\n        \"num_unique_values\": 5,\n        \"samples\": [\n          \"summer\",\n          \"spring\",\n          \"monsoon\"\n        ],\n        \"semantic_type\": \"\",\n        \"description\": \"\"\n      }\n    },\n    {\n      \"column\": \"Month\",\n      \"properties\": {\n        \"dtype\": \"category\",\n        \"num_unique_values\": 11,\n        \"samples\": [\n          \"dec\",\n          \"jan\",\n          \" \"\n        ],\n        \"semantic_type\": \"\",\n        \"description\": \"\"\n      }\n    },\n    {\n      \"column\": \"Temp\",\n      \"properties\": {\n        \"dtype\": \"number\",\n        \"std\": 9,\n        \"min\": 15,\n        \"max\": 43,\n        \"num_unique_values\": 17,\n        \"samples\": [\n          15,\n          32,\n          30\n        ],\n        \"semantic_type\": \"\",\n        \"description\": \"\"\n      }\n    },\n    {\n      \"column\": \"Deasaster Happen in last 3month\",\n      \"properties\": {\n        \"dtype\": \"category\",\n        \"num_unique_values\": 2,\n        \"samples\": [\n          \"yes\",\n          \"no\"\n        ],\n        \"semantic_type\": \"\",\n        \"description\": \"\"\n      }\n    },\n    {\n      \"column\": \"Vegetable condition\",\n      \"properties\": {\n        \"dtype\": \"category\",\n        \"num_unique_values\": 4,\n        \"samples\": [\n          \"scrap\",\n          \"scarp\"\n        ],\n        \"semantic_type\": \"\",\n        \"description\": \"\"\n      }\n    },\n    {\n      \"column\": \"Price per kg\",\n      \"properties\": {\n        \"dtype\": \"number\",\n        \"std\": 48,\n        \"min\": 9,\n        \"max\": 250,\n        \"num_unique_values\": 43,\n        \"samples\": [\n          23,\n          18\n        ],\n        \"semantic_type\": \"\",\n        \"description\": \"\"\n      }\n    }\n  ]\n}",
       "type": "dataframe",
       "variable_name": "df_vegetable"
      },
      "text/html": [
       "\n",
       "  <div id=\"df-6bad6220-5baf-438a-b7a5-69607854d452\" class=\"colab-df-container\">\n",
       "    <div>\n",
       "<style scoped>\n",
       "    .dataframe tbody tr th:only-of-type {\n",
       "        vertical-align: middle;\n",
       "    }\n",
       "\n",
       "    .dataframe tbody tr th {\n",
       "        vertical-align: top;\n",
       "    }\n",
       "\n",
       "    .dataframe thead th {\n",
       "        text-align: right;\n",
       "    }\n",
       "</style>\n",
       "<table border=\"1\" class=\"dataframe\">\n",
       "  <thead>\n",
       "    <tr style=\"text-align: right;\">\n",
       "      <th></th>\n",
       "      <th>Vegetable</th>\n",
       "      <th>Season</th>\n",
       "      <th>Month</th>\n",
       "      <th>Temp</th>\n",
       "      <th>Deasaster Happen in last 3month</th>\n",
       "      <th>Vegetable condition</th>\n",
       "      <th>Price per kg</th>\n",
       "    </tr>\n",
       "  </thead>\n",
       "  <tbody>\n",
       "    <tr>\n",
       "      <th>0</th>\n",
       "      <td>potato</td>\n",
       "      <td>winter</td>\n",
       "      <td>jan</td>\n",
       "      <td>15</td>\n",
       "      <td>no</td>\n",
       "      <td>fresh</td>\n",
       "      <td>20</td>\n",
       "    </tr>\n",
       "    <tr>\n",
       "      <th>1</th>\n",
       "      <td>tomato</td>\n",
       "      <td>winter</td>\n",
       "      <td>jan</td>\n",
       "      <td>15</td>\n",
       "      <td>no</td>\n",
       "      <td>fresh</td>\n",
       "      <td>50</td>\n",
       "    </tr>\n",
       "    <tr>\n",
       "      <th>2</th>\n",
       "      <td>peas</td>\n",
       "      <td>winter</td>\n",
       "      <td>jan</td>\n",
       "      <td>15</td>\n",
       "      <td>no</td>\n",
       "      <td>fresh</td>\n",
       "      <td>70</td>\n",
       "    </tr>\n",
       "    <tr>\n",
       "      <th>3</th>\n",
       "      <td>pumkin</td>\n",
       "      <td>winter</td>\n",
       "      <td>jan</td>\n",
       "      <td>15</td>\n",
       "      <td>no</td>\n",
       "      <td>fresh</td>\n",
       "      <td>25</td>\n",
       "    </tr>\n",
       "    <tr>\n",
       "      <th>4</th>\n",
       "      <td>cucumber</td>\n",
       "      <td>winter</td>\n",
       "      <td>jan</td>\n",
       "      <td>15</td>\n",
       "      <td>no</td>\n",
       "      <td>fresh</td>\n",
       "      <td>20</td>\n",
       "    </tr>\n",
       "    <tr>\n",
       "      <th>...</th>\n",
       "      <td>...</td>\n",
       "      <td>...</td>\n",
       "      <td>...</td>\n",
       "      <td>...</td>\n",
       "      <td>...</td>\n",
       "      <td>...</td>\n",
       "      <td>...</td>\n",
       "    </tr>\n",
       "    <tr>\n",
       "      <th>116</th>\n",
       "      <td>brinjal</td>\n",
       "      <td>winter</td>\n",
       "      <td>jan</td>\n",
       "      <td>15</td>\n",
       "      <td>yes</td>\n",
       "      <td>fresh</td>\n",
       "      <td>33</td>\n",
       "    </tr>\n",
       "    <tr>\n",
       "      <th>117</th>\n",
       "      <td>ginger</td>\n",
       "      <td>winter</td>\n",
       "      <td>jan</td>\n",
       "      <td>15</td>\n",
       "      <td>no</td>\n",
       "      <td>fresh</td>\n",
       "      <td>88</td>\n",
       "    </tr>\n",
       "    <tr>\n",
       "      <th>118</th>\n",
       "      <td>potato</td>\n",
       "      <td>summer</td>\n",
       "      <td>apr</td>\n",
       "      <td>32</td>\n",
       "      <td>no</td>\n",
       "      <td>fresh</td>\n",
       "      <td>24</td>\n",
       "    </tr>\n",
       "    <tr>\n",
       "      <th>119</th>\n",
       "      <td>peas</td>\n",
       "      <td>summer</td>\n",
       "      <td>apr</td>\n",
       "      <td>33</td>\n",
       "      <td>no</td>\n",
       "      <td>fresh</td>\n",
       "      <td>33</td>\n",
       "    </tr>\n",
       "    <tr>\n",
       "      <th>120</th>\n",
       "      <td>radish</td>\n",
       "      <td>summer</td>\n",
       "      <td>apr</td>\n",
       "      <td>32</td>\n",
       "      <td>no</td>\n",
       "      <td>fresh</td>\n",
       "      <td>9</td>\n",
       "    </tr>\n",
       "  </tbody>\n",
       "</table>\n",
       "<p>121 rows × 7 columns</p>\n",
       "</div>\n",
       "    <div class=\"colab-df-buttons\">\n",
       "\n",
       "  <div class=\"colab-df-container\">\n",
       "    <button class=\"colab-df-convert\" onclick=\"convertToInteractive('df-6bad6220-5baf-438a-b7a5-69607854d452')\"\n",
       "            title=\"Convert this dataframe to an interactive table.\"\n",
       "            style=\"display:none;\">\n",
       "\n",
       "  <svg xmlns=\"http://www.w3.org/2000/svg\" height=\"24px\" viewBox=\"0 -960 960 960\">\n",
       "    <path d=\"M120-120v-720h720v720H120Zm60-500h600v-160H180v160Zm220 220h160v-160H400v160Zm0 220h160v-160H400v160ZM180-400h160v-160H180v160Zm440 0h160v-160H620v160ZM180-180h160v-160H180v160Zm440 0h160v-160H620v160Z\"/>\n",
       "  </svg>\n",
       "    </button>\n",
       "\n",
       "  <style>\n",
       "    .colab-df-container {\n",
       "      display:flex;\n",
       "      gap: 12px;\n",
       "    }\n",
       "\n",
       "    .colab-df-convert {\n",
       "      background-color: #E8F0FE;\n",
       "      border: none;\n",
       "      border-radius: 50%;\n",
       "      cursor: pointer;\n",
       "      display: none;\n",
       "      fill: #1967D2;\n",
       "      height: 32px;\n",
       "      padding: 0 0 0 0;\n",
       "      width: 32px;\n",
       "    }\n",
       "\n",
       "    .colab-df-convert:hover {\n",
       "      background-color: #E2EBFA;\n",
       "      box-shadow: 0px 1px 2px rgba(60, 64, 67, 0.3), 0px 1px 3px 1px rgba(60, 64, 67, 0.15);\n",
       "      fill: #174EA6;\n",
       "    }\n",
       "\n",
       "    .colab-df-buttons div {\n",
       "      margin-bottom: 4px;\n",
       "    }\n",
       "\n",
       "    [theme=dark] .colab-df-convert {\n",
       "      background-color: #3B4455;\n",
       "      fill: #D2E3FC;\n",
       "    }\n",
       "\n",
       "    [theme=dark] .colab-df-convert:hover {\n",
       "      background-color: #434B5C;\n",
       "      box-shadow: 0px 1px 3px 1px rgba(0, 0, 0, 0.15);\n",
       "      filter: drop-shadow(0px 1px 2px rgba(0, 0, 0, 0.3));\n",
       "      fill: #FFFFFF;\n",
       "    }\n",
       "  </style>\n",
       "\n",
       "    <script>\n",
       "      const buttonEl =\n",
       "        document.querySelector('#df-6bad6220-5baf-438a-b7a5-69607854d452 button.colab-df-convert');\n",
       "      buttonEl.style.display =\n",
       "        google.colab.kernel.accessAllowed ? 'block' : 'none';\n",
       "\n",
       "      async function convertToInteractive(key) {\n",
       "        const element = document.querySelector('#df-6bad6220-5baf-438a-b7a5-69607854d452');\n",
       "        const dataTable =\n",
       "          await google.colab.kernel.invokeFunction('convertToInteractive',\n",
       "                                                    [key], {});\n",
       "        if (!dataTable) return;\n",
       "\n",
       "        const docLinkHtml = 'Like what you see? Visit the ' +\n",
       "          '<a target=\"_blank\" href=https://colab.research.google.com/notebooks/data_table.ipynb>data table notebook</a>'\n",
       "          + ' to learn more about interactive tables.';\n",
       "        element.innerHTML = '';\n",
       "        dataTable['output_type'] = 'display_data';\n",
       "        await google.colab.output.renderOutput(dataTable, element);\n",
       "        const docLink = document.createElement('div');\n",
       "        docLink.innerHTML = docLinkHtml;\n",
       "        element.appendChild(docLink);\n",
       "      }\n",
       "    </script>\n",
       "  </div>\n",
       "\n",
       "\n",
       "<div id=\"df-a7e922e6-879a-425f-98ab-40b3764e442b\">\n",
       "  <button class=\"colab-df-quickchart\" onclick=\"quickchart('df-a7e922e6-879a-425f-98ab-40b3764e442b')\"\n",
       "            title=\"Suggest charts\"\n",
       "            style=\"display:none;\">\n",
       "\n",
       "<svg xmlns=\"http://www.w3.org/2000/svg\" height=\"24px\"viewBox=\"0 0 24 24\"\n",
       "     width=\"24px\">\n",
       "    <g>\n",
       "        <path d=\"M19 3H5c-1.1 0-2 .9-2 2v14c0 1.1.9 2 2 2h14c1.1 0 2-.9 2-2V5c0-1.1-.9-2-2-2zM9 17H7v-7h2v7zm4 0h-2V7h2v10zm4 0h-2v-4h2v4z\"/>\n",
       "    </g>\n",
       "</svg>\n",
       "  </button>\n",
       "\n",
       "<style>\n",
       "  .colab-df-quickchart {\n",
       "      --bg-color: #E8F0FE;\n",
       "      --fill-color: #1967D2;\n",
       "      --hover-bg-color: #E2EBFA;\n",
       "      --hover-fill-color: #174EA6;\n",
       "      --disabled-fill-color: #AAA;\n",
       "      --disabled-bg-color: #DDD;\n",
       "  }\n",
       "\n",
       "  [theme=dark] .colab-df-quickchart {\n",
       "      --bg-color: #3B4455;\n",
       "      --fill-color: #D2E3FC;\n",
       "      --hover-bg-color: #434B5C;\n",
       "      --hover-fill-color: #FFFFFF;\n",
       "      --disabled-bg-color: #3B4455;\n",
       "      --disabled-fill-color: #666;\n",
       "  }\n",
       "\n",
       "  .colab-df-quickchart {\n",
       "    background-color: var(--bg-color);\n",
       "    border: none;\n",
       "    border-radius: 50%;\n",
       "    cursor: pointer;\n",
       "    display: none;\n",
       "    fill: var(--fill-color);\n",
       "    height: 32px;\n",
       "    padding: 0;\n",
       "    width: 32px;\n",
       "  }\n",
       "\n",
       "  .colab-df-quickchart:hover {\n",
       "    background-color: var(--hover-bg-color);\n",
       "    box-shadow: 0 1px 2px rgba(60, 64, 67, 0.3), 0 1px 3px 1px rgba(60, 64, 67, 0.15);\n",
       "    fill: var(--button-hover-fill-color);\n",
       "  }\n",
       "\n",
       "  .colab-df-quickchart-complete:disabled,\n",
       "  .colab-df-quickchart-complete:disabled:hover {\n",
       "    background-color: var(--disabled-bg-color);\n",
       "    fill: var(--disabled-fill-color);\n",
       "    box-shadow: none;\n",
       "  }\n",
       "\n",
       "  .colab-df-spinner {\n",
       "    border: 2px solid var(--fill-color);\n",
       "    border-color: transparent;\n",
       "    border-bottom-color: var(--fill-color);\n",
       "    animation:\n",
       "      spin 1s steps(1) infinite;\n",
       "  }\n",
       "\n",
       "  @keyframes spin {\n",
       "    0% {\n",
       "      border-color: transparent;\n",
       "      border-bottom-color: var(--fill-color);\n",
       "      border-left-color: var(--fill-color);\n",
       "    }\n",
       "    20% {\n",
       "      border-color: transparent;\n",
       "      border-left-color: var(--fill-color);\n",
       "      border-top-color: var(--fill-color);\n",
       "    }\n",
       "    30% {\n",
       "      border-color: transparent;\n",
       "      border-left-color: var(--fill-color);\n",
       "      border-top-color: var(--fill-color);\n",
       "      border-right-color: var(--fill-color);\n",
       "    }\n",
       "    40% {\n",
       "      border-color: transparent;\n",
       "      border-right-color: var(--fill-color);\n",
       "      border-top-color: var(--fill-color);\n",
       "    }\n",
       "    60% {\n",
       "      border-color: transparent;\n",
       "      border-right-color: var(--fill-color);\n",
       "    }\n",
       "    80% {\n",
       "      border-color: transparent;\n",
       "      border-right-color: var(--fill-color);\n",
       "      border-bottom-color: var(--fill-color);\n",
       "    }\n",
       "    90% {\n",
       "      border-color: transparent;\n",
       "      border-bottom-color: var(--fill-color);\n",
       "    }\n",
       "  }\n",
       "</style>\n",
       "\n",
       "  <script>\n",
       "    async function quickchart(key) {\n",
       "      const quickchartButtonEl =\n",
       "        document.querySelector('#' + key + ' button');\n",
       "      quickchartButtonEl.disabled = true;  // To prevent multiple clicks.\n",
       "      quickchartButtonEl.classList.add('colab-df-spinner');\n",
       "      try {\n",
       "        const charts = await google.colab.kernel.invokeFunction(\n",
       "            'suggestCharts', [key], {});\n",
       "      } catch (error) {\n",
       "        console.error('Error during call to suggestCharts:', error);\n",
       "      }\n",
       "      quickchartButtonEl.classList.remove('colab-df-spinner');\n",
       "      quickchartButtonEl.classList.add('colab-df-quickchart-complete');\n",
       "    }\n",
       "    (() => {\n",
       "      let quickchartButtonEl =\n",
       "        document.querySelector('#df-a7e922e6-879a-425f-98ab-40b3764e442b button');\n",
       "      quickchartButtonEl.style.display =\n",
       "        google.colab.kernel.accessAllowed ? 'block' : 'none';\n",
       "    })();\n",
       "  </script>\n",
       "</div>\n",
       "\n",
       "  <div id=\"id_87527c43-5f7b-4eff-8a14-5b0d9adcbec0\">\n",
       "    <style>\n",
       "      .colab-df-generate {\n",
       "        background-color: #E8F0FE;\n",
       "        border: none;\n",
       "        border-radius: 50%;\n",
       "        cursor: pointer;\n",
       "        display: none;\n",
       "        fill: #1967D2;\n",
       "        height: 32px;\n",
       "        padding: 0 0 0 0;\n",
       "        width: 32px;\n",
       "      }\n",
       "\n",
       "      .colab-df-generate:hover {\n",
       "        background-color: #E2EBFA;\n",
       "        box-shadow: 0px 1px 2px rgba(60, 64, 67, 0.3), 0px 1px 3px 1px rgba(60, 64, 67, 0.15);\n",
       "        fill: #174EA6;\n",
       "      }\n",
       "\n",
       "      [theme=dark] .colab-df-generate {\n",
       "        background-color: #3B4455;\n",
       "        fill: #D2E3FC;\n",
       "      }\n",
       "\n",
       "      [theme=dark] .colab-df-generate:hover {\n",
       "        background-color: #434B5C;\n",
       "        box-shadow: 0px 1px 3px 1px rgba(0, 0, 0, 0.15);\n",
       "        filter: drop-shadow(0px 1px 2px rgba(0, 0, 0, 0.3));\n",
       "        fill: #FFFFFF;\n",
       "      }\n",
       "    </style>\n",
       "    <button class=\"colab-df-generate\" onclick=\"generateWithVariable('df_vegetable')\"\n",
       "            title=\"Generate code using this dataframe.\"\n",
       "            style=\"display:none;\">\n",
       "\n",
       "  <svg xmlns=\"http://www.w3.org/2000/svg\" height=\"24px\"viewBox=\"0 0 24 24\"\n",
       "       width=\"24px\">\n",
       "    <path d=\"M7,19H8.4L18.45,9,17,7.55,7,17.6ZM5,21V16.75L18.45,3.32a2,2,0,0,1,2.83,0l1.4,1.43a1.91,1.91,0,0,1,.58,1.4,1.91,1.91,0,0,1-.58,1.4L9.25,21ZM18.45,9,17,7.55Zm-12,3A5.31,5.31,0,0,0,4.9,8.1,5.31,5.31,0,0,0,1,6.5,5.31,5.31,0,0,0,4.9,4.9,5.31,5.31,0,0,0,6.5,1,5.31,5.31,0,0,0,8.1,4.9,5.31,5.31,0,0,0,12,6.5,5.46,5.46,0,0,0,6.5,12Z\"/>\n",
       "  </svg>\n",
       "    </button>\n",
       "    <script>\n",
       "      (() => {\n",
       "      const buttonEl =\n",
       "        document.querySelector('#id_87527c43-5f7b-4eff-8a14-5b0d9adcbec0 button.colab-df-generate');\n",
       "      buttonEl.style.display =\n",
       "        google.colab.kernel.accessAllowed ? 'block' : 'none';\n",
       "\n",
       "      buttonEl.onclick = () => {\n",
       "        google.colab.notebook.generateWithVariable('df_vegetable');\n",
       "      }\n",
       "      })();\n",
       "    </script>\n",
       "  </div>\n",
       "\n",
       "    </div>\n",
       "  </div>\n"
      ],
      "text/plain": [
       "    Vegetable  Season Month  Temp Deasaster Happen in last 3month  \\\n",
       "0      potato  winter   jan    15                              no   \n",
       "1     tomato   winter   jan    15                              no   \n",
       "2        peas  winter   jan    15                              no   \n",
       "3      pumkin  winter   jan    15                              no   \n",
       "4    cucumber  winter   jan    15                              no   \n",
       "..        ...     ...   ...   ...                             ...   \n",
       "116   brinjal  winter   jan    15                             yes   \n",
       "117    ginger  winter   jan    15                              no   \n",
       "118    potato  summer   apr    32                              no   \n",
       "119      peas  summer   apr    33                              no   \n",
       "120    radish  summer   apr    32                              no   \n",
       "\n",
       "    Vegetable condition  Price per kg  \n",
       "0                 fresh            20  \n",
       "1                 fresh            50  \n",
       "2                 fresh            70  \n",
       "3                 fresh            25  \n",
       "4                 fresh            20  \n",
       "..                  ...           ...  \n",
       "116               fresh            33  \n",
       "117               fresh            88  \n",
       "118               fresh            24  \n",
       "119               fresh            33  \n",
       "120               fresh             9  \n",
       "\n",
       "[121 rows x 7 columns]"
      ]
     },
     "execution_count": 6,
     "metadata": {},
     "output_type": "execute_result"
    }
   ],
   "source": [
    "df_vegetable\n"
   ]
  },
  {
   "cell_type": "markdown",
   "id": "32129c1f-b77a-4abd-bc5c-84fa3a7d3362",
   "metadata": {
    "id": "32129c1f-b77a-4abd-bc5c-84fa3a7d3362"
   },
   "source": [
    "### Statistiques descriptives"
   ]
  },
  {
   "cell_type": "code",
   "execution_count": 7,
   "id": "8b41588e-8ac1-4c49-a0b3-43e828f36bb6",
   "metadata": {
    "colab": {
     "base_uri": "https://localhost:8080/"
    },
    "executionInfo": {
     "elapsed": 13,
     "status": "ok",
     "timestamp": 1729768606737,
     "user": {
      "displayName": "Thierno Amadou Diallo",
      "userId": "03010582142303045952"
     },
     "user_tz": -120
    },
    "id": "8b41588e-8ac1-4c49-a0b3-43e828f36bb6",
    "outputId": "1e10fa18-114a-4d3b-cb84-b6683b68762a"
   },
   "outputs": [
    {
     "name": "stdout",
     "output_type": "stream",
     "text": [
      "        Temp  Price per kg\n",
      "count 121.00        121.00\n",
      "mean   24.89         55.33\n",
      "std     9.32         48.77\n",
      "min    15.00          9.00\n",
      "25%    15.00         22.00\n",
      "50%    27.00         35.00\n",
      "75%    32.00         70.00\n",
      "max    43.00        250.00\n"
     ]
    }
   ],
   "source": [
    "print(df_vegetable.describe())\n"
   ]
  },
  {
   "cell_type": "markdown",
   "id": "86b60186-6a5a-43c4-b171-75e0a8dba41b",
   "metadata": {
    "id": "86b60186-6a5a-43c4-b171-75e0a8dba41b"
   },
   "source": [
    "### Distribution des données numériques"
   ]
  },
  {
   "cell_type": "code",
   "execution_count": 8,
   "id": "f241a2fb-5864-4f78-91a9-cc5f10f756b0",
   "metadata": {
    "colab": {
     "base_uri": "https://localhost:8080/",
     "height": 956
    },
    "executionInfo": {
     "elapsed": 1064,
     "status": "ok",
     "timestamp": 1729768607792,
     "user": {
      "displayName": "Thierno Amadou Diallo",
      "userId": "03010582142303045952"
     },
     "user_tz": -120
    },
    "id": "f241a2fb-5864-4f78-91a9-cc5f10f756b0",
    "outputId": "347a5b48-008a-49b6-f218-217122a2b12d"
   },
   "outputs": [
    {
     "data": {
      "image/png": "[encoded data removed]",
      "text/plain": [
       "<Figure size 1500x1000 with 2 Axes>"
      ]
     },
     "metadata": {},
     "output_type": "display_data"
    }
   ],
   "source": [
    "df_vegetable.hist(bins=30, figsize=(15, 10))\n",
    "plt.tight_layout()\n",
    "plt.show()\n"
   ]
  },
  {
   "cell_type": "markdown",
   "id": "1e4b3c90-dfca-47ea-bb92-98eda250610a",
   "metadata": {
    "id": "1e4b3c90-dfca-47ea-bb92-98eda250610a"
   },
   "source": [
    "### Distribution des données catégorielles"
   ]
  },
  {
   "cell_type": "code",
   "execution_count": 9,
   "id": "2be992e9-7d4c-4ef3-a428-9b9e7f7c01b6",
   "metadata": {
    "colab": {
     "base_uri": "https://localhost:8080/",
     "height": 1000
    },
    "executionInfo": {
     "elapsed": 1201,
     "status": "ok",
     "timestamp": 1729768608987,
     "user": {
      "displayName": "Thierno Amadou Diallo",
      "userId": "03010582142303045952"
     },
     "user_tz": -120
    },
    "id": "2be992e9-7d4c-4ef3-a428-9b9e7f7c01b6",
    "outputId": "0fd6aa93-0c0f-4534-e844-04fce73dc2bb"
   },
   "outputs": [
    {
     "name": "stdout",
     "output_type": "stream",
     "text": [
      "Index(['Vegetable', 'Season', 'Month', 'Deasaster Happen in last 3month',\n",
      "       'Vegetable condition'],\n",
      "      dtype='object')\n"
     ]
    },
    {
     "data": {
      "image/png": "[encoded data removed]",
      "text/plain": [
       "<Figure size 1500x1000 with 5 Axes>"
      ]
     },
     "metadata": {},
     "output_type": "display_data"
    }
   ],
   "source": [
    "# Récupération variables ctaégorielles\n",
    "categorical_columns = df_vegetable.select_dtypes(include=['object']).columns\n",
    "print(categorical_columns)\n",
    "\n",
    "# nombre de colonnes pour le subplots\n",
    "n_cols = 3\n",
    "n_rows = (len(categorical_columns) + n_cols - 1) // n_cols  # Calculer le nombre de lignes\n",
    "\n",
    "## Figure\n",
    "fig, axes = plt.subplots(n_rows, n_cols, figsize=(15, 5 * n_rows))\n",
    "axes = axes.flatten()  # Aplatir l'array des axes pour un accès facile\n",
    "\n",
    "for i, column in enumerate(categorical_columns):\n",
    "    counts = df_vegetable[column].value_counts()\n",
    "    axes[i].pie(\n",
    "        counts,\n",
    "        labels=counts.index,\n",
    "        autopct=lambda p: f'{int(p * sum(counts) / 100)}' if p > 0 else '',\n",
    "        startangle=90,\n",
    "        colors=plt.cm.tab20.colors\n",
    "    )\n",
    "    axes[i].set_title(f'Distributionc de {column}')\n",
    "    axes[i].axis('equal')\n",
    "\n",
    "for j in range(i + 1, n_rows * n_cols):\n",
    "    fig.delaxes(axes[j])\n",
    "\n",
    "plt.tight_layout()\n",
    "plt.show()\n"
   ]
  },
  {
   "cell_type": "markdown",
   "id": "5f0a512b-fead-46aa-a9ad-a8b80ad28860",
   "metadata": {
    "id": "5f0a512b-fead-46aa-a9ad-a8b80ad28860"
   },
   "source": [
    "### Matrice de corrélation"
   ]
  },
  {
   "cell_type": "code",
   "execution_count": 10,
   "id": "016aa6ab-8d1a-4cac-b998-b27e730f56c5",
   "metadata": {
    "colab": {
     "base_uri": "https://localhost:8080/",
     "height": 699
    },
    "executionInfo": {
     "elapsed": 403,
     "status": "ok",
     "timestamp": 1729768609386,
     "user": {
      "displayName": "Thierno Amadou Diallo",
      "userId": "03010582142303045952"
     },
     "user_tz": -120
    },
    "id": "016aa6ab-8d1a-4cac-b998-b27e730f56c5",
    "outputId": "2cefee46-9c51-4c4d-aa0a-1a582dcd6c4d"
   },
   "outputs": [
    {
     "data": {
      "image/png": "[encoded data removed]",
      "text/plain": [
       "<Figure size 1200x800 with 2 Axes>"
      ]
     },
     "metadata": {},
     "output_type": "display_data"
    }
   ],
   "source": [
    "numeric_df = df_vegetable.select_dtypes(include=['float64', 'int64'])\n",
    "plt.figure(figsize=(12, 8))\n",
    "sns.heatmap(numeric_df.corr(), annot=True, fmt=\".2f\", cmap='coolwarm')\n",
    "plt.title('Matrice de correlation')\n",
    "plt.show()\n"
   ]
  },
  {
   "cell_type": "markdown",
   "id": "0ba6a8dc-ab67-4047-835e-b86df66123e7",
   "metadata": {
    "id": "0ba6a8dc-ab67-4047-835e-b86df66123e7"
   },
   "source": [
    "## H2O AutoML"
   ]
  },
  {
   "cell_type": "markdown",
   "id": "ea3a432b-12ef-45e1-a843-ac1d7a2fe321",
   "metadata": {
    "id": "ea3a432b-12ef-45e1-a843-ac1d7a2fe321"
   },
   "source": [
    "### Conversion du dataframe pandas en dataframe H2O"
   ]
  },
  {
   "cell_type": "code",
   "execution_count": null,
   "id": "42ef4481-4a61-43d4-a452-9e6ab0902f48",
   "metadata": {
    "colab": {
     "base_uri": "https://localhost:8080/",
     "height": 406
    },
    "executionInfo": {
     "elapsed": 2766,
     "status": "ok",
     "timestamp": 1729763193973,
     "user": {
      "displayName": "Maimouna Timera",
      "userId": "04209297556515896791"
     },
     "user_tz": -120
    },
    "id": "42ef4481-4a61-43d4-a452-9e6ab0902f48",
    "outputId": "3a8eb700-efea-4a6d-af3e-75d4085a4234"
   },
   "outputs": [
    {
     "name": "stdout",
     "output_type": "stream",
     "text": [
      "Parse progress: |████████████████████████████████████████████████████████████████| (done) 100%\n"
     ]
    },
    {
     "data": {
      "text/html": [
       "<table class='dataframe'>\n",
       "<thead>\n",
       "<tr><th>Vegetable     </th><th>Season  </th><th>Month  </th><th style=\"text-align: right;\">  Temp</th><th>Deasaster Happen in last 3month  </th><th>Vegetable condition  </th><th style=\"text-align: right;\">  Price per kg</th></tr>\n",
       "</thead>\n",
       "<tbody>\n",
       "<tr><td>potato        </td><td>winter  </td><td>jan    </td><td style=\"text-align: right;\">    15</td><td>no                               </td><td>fresh                </td><td style=\"text-align: right;\">            20</td></tr>\n",
       "<tr><td>tomato        </td><td>winter  </td><td>jan    </td><td style=\"text-align: right;\">    15</td><td>no                               </td><td>fresh                </td><td style=\"text-align: right;\">            50</td></tr>\n",
       "<tr><td>peas          </td><td>winter  </td><td>jan    </td><td style=\"text-align: right;\">    15</td><td>no                               </td><td>fresh                </td><td style=\"text-align: right;\">            70</td></tr>\n",
       "<tr><td>pumkin        </td><td>winter  </td><td>jan    </td><td style=\"text-align: right;\">    15</td><td>no                               </td><td>fresh                </td><td style=\"text-align: right;\">            25</td></tr>\n",
       "<tr><td>cucumber      </td><td>winter  </td><td>jan    </td><td style=\"text-align: right;\">    15</td><td>no                               </td><td>fresh                </td><td style=\"text-align: right;\">            20</td></tr>\n",
       "<tr><td>pointed grourd</td><td>winter  </td><td>jan    </td><td style=\"text-align: right;\">    15</td><td>yes                              </td><td>fresh                </td><td style=\"text-align: right;\">           130</td></tr>\n",
       "<tr><td>Raddish       </td><td>winter  </td><td>jan    </td><td style=\"text-align: right;\">    15</td><td>no                               </td><td>fresh                </td><td style=\"text-align: right;\">            10</td></tr>\n",
       "<tr><td>Bitter gourd  </td><td>winter  </td><td>jan    </td><td style=\"text-align: right;\">    15</td><td>no                               </td><td>fresh                </td><td style=\"text-align: right;\">            35</td></tr>\n",
       "<tr><td>onion         </td><td>winter  </td><td>jan    </td><td style=\"text-align: right;\">    15</td><td>no                               </td><td>fresh                </td><td style=\"text-align: right;\">            35</td></tr>\n",
       "<tr><td>tomato        </td><td>winter  </td><td>jan    </td><td style=\"text-align: right;\">    15</td><td>no                               </td><td>fresh                </td><td style=\"text-align: right;\">            45</td></tr>\n",
       "</tbody>\n",
       "</table><pre style='font-size: smaller; margin-bottom: 1em;'>[121 rows x 7 columns]</pre>"
      ],
      "text/plain": [
       "Vegetable       Season    Month      Temp  Deasaster Happen in last 3month    Vegetable condition      Price per kg\n",
       "--------------  --------  -------  ------  ---------------------------------  ---------------------  --------------\n",
       "potato          winter    jan          15  no                                 fresh                              20\n",
       "tomato          winter    jan          15  no                                 fresh                              50\n",
       "peas            winter    jan          15  no                                 fresh                              70\n",
       "pumkin          winter    jan          15  no                                 fresh                              25\n",
       "cucumber        winter    jan          15  no                                 fresh                              20\n",
       "pointed grourd  winter    jan          15  yes                                fresh                             130\n",
       "Raddish         winter    jan          15  no                                 fresh                              10\n",
       "Bitter gourd    winter    jan          15  no                                 fresh                              35\n",
       "onion           winter    jan          15  no                                 fresh                              35\n",
       "tomato          winter    jan          15  no                                 fresh                              45\n",
       "[121 rows x 7 columns]\n"
      ]
     },
     "execution_count": 10,
     "metadata": {},
     "output_type": "execute_result"
    }
   ],
   "source": [
    "# Conversion du dataframe pandas en dataframe H2O (df specifique)\n",
    "h2o_df = h2o.H2OFrame(df_vegetable)\n",
    "\n",
    "##gere automatiquement l'encodage des données\n",
    "\n",
    "#Echantillonage\n",
    "trainforh2o, testforh2o = h2o_df.split_frame(ratios = [0.8])\n",
    "##Définition de la variable cible\n",
    "yforh2o = \"Price per kg\"\n",
    "\n",
    "h2o_df"
   ]
  },
  {
   "cell_type": "markdown",
   "id": "f48529fb-587f-4fd9-8784-45319899c5ec",
   "metadata": {
    "id": "f48529fb-587f-4fd9-8784-45319899c5ec"
   },
   "source": [
    "### Instanciation et Entraînement de l'AutoML"
   ]
  },
  {
   "cell_type": "code",
   "execution_count": null,
   "id": "12acd6d1-e2bd-48dc-a7d6-49c48c189d5a",
   "metadata": {
    "colab": {
     "base_uri": "https://localhost:8080/",
     "height": 1000
    },
    "executionInfo": {
     "elapsed": 63807,
     "status": "ok",
     "timestamp": 1729763257776,
     "user": {
      "displayName": "Maimouna Timera",
      "userId": "04209297556515896791"
     },
     "user_tz": -120
    },
    "id": "12acd6d1-e2bd-48dc-a7d6-49c48c189d5a",
    "outputId": "4d12b3d8-1f7e-4685-e354-d88a5d6a60fe"
   },
   "outputs": [
    {
     "name": "stdout",
     "output_type": "stream",
     "text": [
      "AutoML progress: |███\n",
      "09:46:40.78: _min_rows param, The dataset size is too small to split for min_rows=100.0: must have at least 200.0 (weighted) rows, but have only 98.0.\n",
      "\n",
      "████████████████████████████████████████████████████████████| (done) 100%\n"
     ]
    },
    {
     "data": {
      "text/html": [
       "<pre style='margin: 1em 0 1em 0;'>Model Details\n",
       "=============\n",
       "H2OGradientBoostingEstimator : Gradient Boosting Machine\n",
       "Model Key: GBM_grid_1_AutoML_1_20241024_94634_model_9\n",
       "</pre>\n",
       "<div style='margin: 1em 0 1em 0;'>\n",
       "<style>\n",
       "\n",
       "#h2o-table-2.h2o-container {\n",
       "  overflow-x: auto;\n",
       "}\n",
       "#h2o-table-2 .h2o-table {\n",
       "  /* width: 100%; */\n",
       "  margin-top: 1em;\n",
       "  margin-bottom: 1em;\n",
       "}\n",
       "#h2o-table-2 .h2o-table caption {\n",
       "  white-space: nowrap;\n",
       "  caption-side: top;\n",
       "  text-align: left;\n",
       "  /* margin-left: 1em; */\n",
       "  margin: 0;\n",
       "  font-size: larger;\n",
       "}\n",
       "#h2o-table-2 .h2o-table thead {\n",
       "  white-space: nowrap; \n",
       "  position: sticky;\n",
       "  top: 0;\n",
       "  box-shadow: 0 -1px inset;\n",
       "}\n",
       "#h2o-table-2 .h2o-table tbody {\n",
       "  overflow: auto;\n",
       "}\n",
       "#h2o-table-2 .h2o-table th,\n",
       "#h2o-table-2 .h2o-table td {\n",
       "  text-align: right;\n",
       "  /* border: 1px solid; */\n",
       "}\n",
       "#h2o-table-2 .h2o-table tr:nth-child(even) {\n",
       "  /* background: #F5F5F5 */\n",
       "}\n",
       "\n",
       "</style>      \n",
       "<div id=\"h2o-table-2\" class=\"h2o-container\">\n",
       "  <table class=\"h2o-table\">\n",
       "    <caption>Model Summary: </caption>\n",
       "    <thead><tr><th></th>\n",
       "<th>number_of_trees</th>\n",
       "<th>number_of_internal_trees</th>\n",
       "<th>model_size_in_bytes</th>\n",
       "<th>min_depth</th>\n",
       "<th>max_depth</th>\n",
       "<th>mean_depth</th>\n",
       "<th>min_leaves</th>\n",
       "<th>max_leaves</th>\n",
       "<th>mean_leaves</th></tr></thead>\n",
       "    <tbody><tr><td></td>\n",
       "<td>89.0</td>\n",
       "<td>89.0</td>\n",
       "<td>9743.0</td>\n",
       "<td>2.0</td>\n",
       "<td>4.0</td>\n",
       "<td>2.8764045</td>\n",
       "<td>3.0</td>\n",
       "<td>6.0</td>\n",
       "<td>4.022472</td></tr></tbody>\n",
       "  </table>\n",
       "</div>\n",
       "</div>\n",
       "<div style='margin: 1em 0 1em 0;'><pre style='margin: 1em 0 1em 0;'>ModelMetricsRegression: gbm\n",
       "** Reported on train data. **\n",
       "\n",
       "MSE: 346.94383608873034\n",
       "RMSE: 18.626428430827268\n",
       "MAE: 12.68387744864639\n",
       "RMSLE: 0.34357799442831655\n",
       "Mean Residual Deviance: 346.94383608873034</pre></div>\n",
       "<div style='margin: 1em 0 1em 0;'><pre style='margin: 1em 0 1em 0;'>ModelMetricsRegression: gbm\n",
       "** Reported on cross-validation data. **\n",
       "\n",
       "MSE: 725.2082869353468\n",
       "RMSE: 26.929691549205437\n",
       "MAE: 19.62513147504424\n",
       "RMSLE: 0.5354098626420652\n",
       "Mean Residual Deviance: 725.2082869353468</pre></div>\n",
       "<div style='margin: 1em 0 1em 0;'>\n",
       "<style>\n",
       "\n",
       "#h2o-table-3.h2o-container {\n",
       "  overflow-x: auto;\n",
       "}\n",
       "#h2o-table-3 .h2o-table {\n",
       "  /* width: 100%; */\n",
       "  margin-top: 1em;\n",
       "  margin-bottom: 1em;\n",
       "}\n",
       "#h2o-table-3 .h2o-table caption {\n",
       "  white-space: nowrap;\n",
       "  caption-side: top;\n",
       "  text-align: left;\n",
       "  /* margin-left: 1em; */\n",
       "  margin: 0;\n",
       "  font-size: larger;\n",
       "}\n",
       "#h2o-table-3 .h2o-table thead {\n",
       "  white-space: nowrap; \n",
       "  position: sticky;\n",
       "  top: 0;\n",
       "  box-shadow: 0 -1px inset;\n",
       "}\n",
       "#h2o-table-3 .h2o-table tbody {\n",
       "  overflow: auto;\n",
       "}\n",
       "#h2o-table-3 .h2o-table th,\n",
       "#h2o-table-3 .h2o-table td {\n",
       "  text-align: right;\n",
       "  /* border: 1px solid; */\n",
       "}\n",
       "#h2o-table-3 .h2o-table tr:nth-child(even) {\n",
       "  /* background: #F5F5F5 */\n",
       "}\n",
       "\n",
       "</style>      \n",
       "<div id=\"h2o-table-3\" class=\"h2o-container\">\n",
       "  <table class=\"h2o-table\">\n",
       "    <caption>Cross-Validation Metrics Summary: </caption>\n",
       "    <thead><tr><th></th>\n",
       "<th>mean</th>\n",
       "<th>sd</th>\n",
       "<th>cv_1_valid</th>\n",
       "<th>cv_2_valid</th>\n",
       "<th>cv_3_valid</th>\n",
       "<th>cv_4_valid</th>\n",
       "<th>cv_5_valid</th></tr></thead>\n",
       "    <tbody><tr><td>aic</td>\n",
       "<td>nan</td>\n",
       "<td>0.0</td>\n",
       "<td>nan</td>\n",
       "<td>nan</td>\n",
       "<td>nan</td>\n",
       "<td>nan</td>\n",
       "<td>nan</td></tr>\n",
       "<tr><td>loglikelihood</td>\n",
       "<td>nan</td>\n",
       "<td>0.0</td>\n",
       "<td>nan</td>\n",
       "<td>nan</td>\n",
       "<td>nan</td>\n",
       "<td>nan</td>\n",
       "<td>nan</td></tr>\n",
       "<tr><td>mae</td>\n",
       "<td>19.648184</td>\n",
       "<td>3.5025845</td>\n",
       "<td>15.192838</td>\n",
       "<td>18.77736</td>\n",
       "<td>21.89382</td>\n",
       "<td>18.132614</td>\n",
       "<td>24.244282</td></tr>\n",
       "<tr><td>mean_residual_deviance</td>\n",
       "<td>729.6699</td>\n",
       "<td>213.085</td>\n",
       "<td>388.52686</td>\n",
       "<td>777.0402</td>\n",
       "<td>702.1718</td>\n",
       "<td>817.3849</td>\n",
       "<td>963.22565</td></tr>\n",
       "<tr><td>mse</td>\n",
       "<td>729.6699</td>\n",
       "<td>213.085</td>\n",
       "<td>388.52686</td>\n",
       "<td>777.0402</td>\n",
       "<td>702.1718</td>\n",
       "<td>817.3849</td>\n",
       "<td>963.22565</td></tr>\n",
       "<tr><td>r2</td>\n",
       "<td>0.6564159</td>\n",
       "<td>0.2029531</td>\n",
       "<td>0.8220631</td>\n",
       "<td>0.7023850</td>\n",
       "<td>0.7131472</td>\n",
       "<td>0.7413130</td>\n",
       "<td>0.3031713</td></tr>\n",
       "<tr><td>residual_deviance</td>\n",
       "<td>729.6699</td>\n",
       "<td>213.085</td>\n",
       "<td>388.52686</td>\n",
       "<td>777.0402</td>\n",
       "<td>702.1718</td>\n",
       "<td>817.3849</td>\n",
       "<td>963.22565</td></tr>\n",
       "<tr><td>rmse</td>\n",
       "<td>26.742174</td>\n",
       "<td>4.2611623</td>\n",
       "<td>19.711084</td>\n",
       "<td>27.87544</td>\n",
       "<td>26.498524</td>\n",
       "<td>28.589945</td>\n",
       "<td>31.035877</td></tr>\n",
       "<tr><td>rmsle</td>\n",
       "<td>0.5261797</td>\n",
       "<td>0.0922866</td>\n",
       "<td>0.4796763</td>\n",
       "<td>0.3922350</td>\n",
       "<td>0.5741972</td>\n",
       "<td>0.6304011</td>\n",
       "<td>0.5543888</td></tr></tbody>\n",
       "  </table>\n",
       "</div>\n",
       "</div>\n",
       "<div style='margin: 1em 0 1em 0;'>\n",
       "<style>\n",
       "\n",
       "#h2o-table-4.h2o-container {\n",
       "  overflow-x: auto;\n",
       "}\n",
       "#h2o-table-4 .h2o-table {\n",
       "  /* width: 100%; */\n",
       "  margin-top: 1em;\n",
       "  margin-bottom: 1em;\n",
       "}\n",
       "#h2o-table-4 .h2o-table caption {\n",
       "  white-space: nowrap;\n",
       "  caption-side: top;\n",
       "  text-align: left;\n",
       "  /* margin-left: 1em; */\n",
       "  margin: 0;\n",
       "  font-size: larger;\n",
       "}\n",
       "#h2o-table-4 .h2o-table thead {\n",
       "  white-space: nowrap; \n",
       "  position: sticky;\n",
       "  top: 0;\n",
       "  box-shadow: 0 -1px inset;\n",
       "}\n",
       "#h2o-table-4 .h2o-table tbody {\n",
       "  overflow: auto;\n",
       "}\n",
       "#h2o-table-4 .h2o-table th,\n",
       "#h2o-table-4 .h2o-table td {\n",
       "  text-align: right;\n",
       "  /* border: 1px solid; */\n",
       "}\n",
       "#h2o-table-4 .h2o-table tr:nth-child(even) {\n",
       "  /* background: #F5F5F5 */\n",
       "}\n",
       "\n",
       "</style>      \n",
       "<div id=\"h2o-table-4\" class=\"h2o-container\">\n",
       "  <table class=\"h2o-table\">\n",
       "    <caption>Scoring History: </caption>\n",
       "    <thead><tr><th></th>\n",
       "<th>timestamp</th>\n",
       "<th>duration</th>\n",
       "<th>number_of_trees</th>\n",
       "<th>training_rmse</th>\n",
       "<th>training_mae</th>\n",
       "<th>training_deviance</th></tr></thead>\n",
       "    <tbody><tr><td></td>\n",
       "<td>2024-10-24 09:47:21</td>\n",
       "<td> 4.777 sec</td>\n",
       "<td>0.0</td>\n",
       "<td>48.7891792</td>\n",
       "<td>35.7555185</td>\n",
       "<td>2380.3840067</td></tr>\n",
       "<tr><td></td>\n",
       "<td>2024-10-24 09:47:21</td>\n",
       "<td> 4.782 sec</td>\n",
       "<td>5.0</td>\n",
       "<td>44.4534365</td>\n",
       "<td>31.8849927</td>\n",
       "<td>1976.1080153</td></tr>\n",
       "<tr><td></td>\n",
       "<td>2024-10-24 09:47:21</td>\n",
       "<td> 4.786 sec</td>\n",
       "<td>10.0</td>\n",
       "<td>40.6260363</td>\n",
       "<td>28.7093924</td>\n",
       "<td>1650.4748253</td></tr>\n",
       "<tr><td></td>\n",
       "<td>2024-10-24 09:47:21</td>\n",
       "<td> 4.790 sec</td>\n",
       "<td>15.0</td>\n",
       "<td>35.9471362</td>\n",
       "<td>24.9710463</td>\n",
       "<td>1292.1965989</td></tr>\n",
       "<tr><td></td>\n",
       "<td>2024-10-24 09:47:21</td>\n",
       "<td> 4.795 sec</td>\n",
       "<td>20.0</td>\n",
       "<td>33.3284752</td>\n",
       "<td>22.7006872</td>\n",
       "<td>1110.7872581</td></tr>\n",
       "<tr><td></td>\n",
       "<td>2024-10-24 09:47:21</td>\n",
       "<td> 4.800 sec</td>\n",
       "<td>25.0</td>\n",
       "<td>31.4242642</td>\n",
       "<td>21.1367699</td>\n",
       "<td>987.4843835</td></tr>\n",
       "<tr><td></td>\n",
       "<td>2024-10-24 09:47:21</td>\n",
       "<td> 4.804 sec</td>\n",
       "<td>30.0</td>\n",
       "<td>29.4250770</td>\n",
       "<td>19.7353252</td>\n",
       "<td>865.8351586</td></tr>\n",
       "<tr><td></td>\n",
       "<td>2024-10-24 09:47:21</td>\n",
       "<td> 4.808 sec</td>\n",
       "<td>35.0</td>\n",
       "<td>27.0866085</td>\n",
       "<td>18.0782906</td>\n",
       "<td>733.6843591</td></tr>\n",
       "<tr><td></td>\n",
       "<td>2024-10-24 09:47:21</td>\n",
       "<td> 4.813 sec</td>\n",
       "<td>40.0</td>\n",
       "<td>25.3611936</td>\n",
       "<td>17.0059638</td>\n",
       "<td>643.1901410</td></tr>\n",
       "<tr><td></td>\n",
       "<td>2024-10-24 09:47:21</td>\n",
       "<td> 4.817 sec</td>\n",
       "<td>45.0</td>\n",
       "<td>24.2016227</td>\n",
       "<td>16.2232339</td>\n",
       "<td>585.7185416</td></tr>\n",
       "<tr><td></td>\n",
       "<td>2024-10-24 09:47:21</td>\n",
       "<td> 4.822 sec</td>\n",
       "<td>50.0</td>\n",
       "<td>23.0861786</td>\n",
       "<td>15.5268961</td>\n",
       "<td>532.9716433</td></tr>\n",
       "<tr><td></td>\n",
       "<td>2024-10-24 09:47:21</td>\n",
       "<td> 4.827 sec</td>\n",
       "<td>55.0</td>\n",
       "<td>21.9852789</td>\n",
       "<td>14.8403430</td>\n",
       "<td>483.3524894</td></tr>\n",
       "<tr><td></td>\n",
       "<td>2024-10-24 09:47:21</td>\n",
       "<td> 4.831 sec</td>\n",
       "<td>60.0</td>\n",
       "<td>21.4337935</td>\n",
       "<td>14.6691608</td>\n",
       "<td>459.4075024</td></tr>\n",
       "<tr><td></td>\n",
       "<td>2024-10-24 09:47:21</td>\n",
       "<td> 4.835 sec</td>\n",
       "<td>65.0</td>\n",
       "<td>21.1279355</td>\n",
       "<td>14.6367764</td>\n",
       "<td>446.3896573</td></tr>\n",
       "<tr><td></td>\n",
       "<td>2024-10-24 09:47:21</td>\n",
       "<td> 4.840 sec</td>\n",
       "<td>70.0</td>\n",
       "<td>19.9811854</td>\n",
       "<td>13.6375486</td>\n",
       "<td>399.2477706</td></tr>\n",
       "<tr><td></td>\n",
       "<td>2024-10-24 09:47:21</td>\n",
       "<td> 4.845 sec</td>\n",
       "<td>75.0</td>\n",
       "<td>19.7347022</td>\n",
       "<td>13.5967498</td>\n",
       "<td>389.4584697</td></tr>\n",
       "<tr><td></td>\n",
       "<td>2024-10-24 09:47:21</td>\n",
       "<td> 4.850 sec</td>\n",
       "<td>80.0</td>\n",
       "<td>19.4346541</td>\n",
       "<td>13.2762730</td>\n",
       "<td>377.7057788</td></tr>\n",
       "<tr><td></td>\n",
       "<td>2024-10-24 09:47:21</td>\n",
       "<td> 4.855 sec</td>\n",
       "<td>85.0</td>\n",
       "<td>18.8009077</td>\n",
       "<td>12.7646006</td>\n",
       "<td>353.4741320</td></tr>\n",
       "<tr><td></td>\n",
       "<td>2024-10-24 09:47:21</td>\n",
       "<td> 4.859 sec</td>\n",
       "<td>89.0</td>\n",
       "<td>18.6264284</td>\n",
       "<td>12.6838774</td>\n",
       "<td>346.9438361</td></tr></tbody>\n",
       "  </table>\n",
       "</div>\n",
       "</div>\n",
       "<div style='margin: 1em 0 1em 0;'>\n",
       "<style>\n",
       "\n",
       "#h2o-table-5.h2o-container {\n",
       "  overflow-x: auto;\n",
       "}\n",
       "#h2o-table-5 .h2o-table {\n",
       "  /* width: 100%; */\n",
       "  margin-top: 1em;\n",
       "  margin-bottom: 1em;\n",
       "}\n",
       "#h2o-table-5 .h2o-table caption {\n",
       "  white-space: nowrap;\n",
       "  caption-side: top;\n",
       "  text-align: left;\n",
       "  /* margin-left: 1em; */\n",
       "  margin: 0;\n",
       "  font-size: larger;\n",
       "}\n",
       "#h2o-table-5 .h2o-table thead {\n",
       "  white-space: nowrap; \n",
       "  position: sticky;\n",
       "  top: 0;\n",
       "  box-shadow: 0 -1px inset;\n",
       "}\n",
       "#h2o-table-5 .h2o-table tbody {\n",
       "  overflow: auto;\n",
       "}\n",
       "#h2o-table-5 .h2o-table th,\n",
       "#h2o-table-5 .h2o-table td {\n",
       "  text-align: right;\n",
       "  /* border: 1px solid; */\n",
       "}\n",
       "#h2o-table-5 .h2o-table tr:nth-child(even) {\n",
       "  /* background: #F5F5F5 */\n",
       "}\n",
       "\n",
       "</style>      \n",
       "<div id=\"h2o-table-5\" class=\"h2o-container\">\n",
       "  <table class=\"h2o-table\">\n",
       "    <caption>Variable Importances: </caption>\n",
       "    <thead><tr><th>variable</th>\n",
       "<th>relative_importance</th>\n",
       "<th>scaled_importance</th>\n",
       "<th>percentage</th></tr></thead>\n",
       "    <tbody><tr><td>Vegetable</td>\n",
       "<td>599678.8125000</td>\n",
       "<td>1.0</td>\n",
       "<td>0.5717614</td></tr>\n",
       "<tr><td>Deasaster Happen in last 3month</td>\n",
       "<td>158804.7656250</td>\n",
       "<td>0.2648164</td>\n",
       "<td>0.1514118</td></tr>\n",
       "<tr><td>Month</td>\n",
       "<td>144397.4843750</td>\n",
       "<td>0.2407914</td>\n",
       "<td>0.1376752</td></tr>\n",
       "<tr><td>Temp</td>\n",
       "<td>85928.9687500</td>\n",
       "<td>0.1432917</td>\n",
       "<td>0.0819286</td></tr>\n",
       "<tr><td>Season</td>\n",
       "<td>36026.7070312</td>\n",
       "<td>0.0600767</td>\n",
       "<td>0.0343495</td></tr>\n",
       "<tr><td>Vegetable condition</td>\n",
       "<td>23990.3808594</td>\n",
       "<td>0.0400054</td>\n",
       "<td>0.0228735</td></tr></tbody>\n",
       "  </table>\n",
       "</div>\n",
       "</div><pre style=\"font-size: smaller; margin: 1em 0 0 0;\">\n",
       "\n",
       "[tips]\n",
       "Use `model.explain()` to inspect the model.\n",
       "--\n",
       "Use `h2o.display.toggle_user_tips()` to switch on/off this section.</pre>"
      ],
      "text/plain": [
       "Model Details\n",
       "=============\n",
       "H2OGradientBoostingEstimator : Gradient Boosting Machine\n",
       "Model Key: GBM_grid_1_AutoML_1_20241024_94634_model_9\n",
       "\n",
       "\n",
       "Model Summary: \n",
       "    number_of_trees    number_of_internal_trees    model_size_in_bytes    min_depth    max_depth    mean_depth    min_leaves    max_leaves    mean_leaves\n",
       "--  -----------------  --------------------------  ---------------------  -----------  -----------  ------------  ------------  ------------  -------------\n",
       "    89                 89                          9743                   2            4            2.8764        3             6             4.02247\n",
       "\n",
       "ModelMetricsRegression: gbm\n",
       "** Reported on train data. **\n",
       "\n",
       "MSE: 346.94383608873034\n",
       "RMSE: 18.626428430827268\n",
       "MAE: 12.68387744864639\n",
       "RMSLE: 0.34357799442831655\n",
       "Mean Residual Deviance: 346.94383608873034\n",
       "\n",
       "ModelMetricsRegression: gbm\n",
       "** Reported on cross-validation data. **\n",
       "\n",
       "MSE: 725.2082869353468\n",
       "RMSE: 26.929691549205437\n",
       "MAE: 19.62513147504424\n",
       "RMSLE: 0.5354098626420652\n",
       "Mean Residual Deviance: 725.2082869353468\n",
       "\n",
       "Cross-Validation Metrics Summary: \n",
       "                        mean      sd         cv_1_valid    cv_2_valid    cv_3_valid    cv_4_valid    cv_5_valid\n",
       "----------------------  --------  ---------  ------------  ------------  ------------  ------------  ------------\n",
       "aic                     nan       0          nan           nan           nan           nan           nan\n",
       "loglikelihood           nan       0          nan           nan           nan           nan           nan\n",
       "mae                     19.6482   3.50258    15.1928       18.7774       21.8938       18.1326       24.2443\n",
       "mean_residual_deviance  729.67    213.085    388.527       777.04        702.172       817.385       963.226\n",
       "mse                     729.67    213.085    388.527       777.04        702.172       817.385       963.226\n",
       "r2                      0.656416  0.202953   0.822063      0.702385      0.713147      0.741313      0.303171\n",
       "residual_deviance       729.67    213.085    388.527       777.04        702.172       817.385       963.226\n",
       "rmse                    26.7422   4.26116    19.7111       27.8754       26.4985       28.5899       31.0359\n",
       "rmsle                   0.52618   0.0922866  0.479676      0.392235      0.574197      0.630401      0.554389\n",
       "\n",
       "Scoring History: \n",
       "    timestamp            duration    number_of_trees    training_rmse    training_mae    training_deviance\n",
       "--  -------------------  ----------  -----------------  ---------------  --------------  -------------------\n",
       "    2024-10-24 09:47:21  4.777 sec   0                  48.7892          35.7555         2380.38\n",
       "    2024-10-24 09:47:21  4.782 sec   5                  44.4534          31.885          1976.11\n",
       "    2024-10-24 09:47:21  4.786 sec   10                 40.626           28.7094         1650.47\n",
       "    2024-10-24 09:47:21  4.790 sec   15                 35.9471          24.971          1292.2\n",
       "    2024-10-24 09:47:21  4.795 sec   20                 33.3285          22.7007         1110.79\n",
       "    2024-10-24 09:47:21  4.800 sec   25                 31.4243          21.1368         987.484\n",
       "    2024-10-24 09:47:21  4.804 sec   30                 29.4251          19.7353         865.835\n",
       "    2024-10-24 09:47:21  4.808 sec   35                 27.0866          18.0783         733.684\n",
       "    2024-10-24 09:47:21  4.813 sec   40                 25.3612          17.006          643.19\n",
       "    2024-10-24 09:47:21  4.817 sec   45                 24.2016          16.2232         585.719\n",
       "    2024-10-24 09:47:21  4.822 sec   50                 23.0862          15.5269         532.972\n",
       "    2024-10-24 09:47:21  4.827 sec   55                 21.9853          14.8403         483.352\n",
       "    2024-10-24 09:47:21  4.831 sec   60                 21.4338          14.6692         459.408\n",
       "    2024-10-24 09:47:21  4.835 sec   65                 21.1279          14.6368         446.39\n",
       "    2024-10-24 09:47:21  4.840 sec   70                 19.9812          13.6375         399.248\n",
       "    2024-10-24 09:47:21  4.845 sec   75                 19.7347          13.5967         389.458\n",
       "    2024-10-24 09:47:21  4.850 sec   80                 19.4347          13.2763         377.706\n",
       "    2024-10-24 09:47:21  4.855 sec   85                 18.8009          12.7646         353.474\n",
       "    2024-10-24 09:47:21  4.859 sec   89                 18.6264          12.6839         346.944\n",
       "\n",
       "Variable Importances: \n",
       "variable                         relative_importance    scaled_importance    percentage\n",
       "-------------------------------  ---------------------  -------------------  ------------\n",
       "Vegetable                        599679                 1                    0.571761\n",
       "Deasaster Happen in last 3month  158805                 0.264816             0.151412\n",
       "Month                            144397                 0.240791             0.137675\n",
       "Temp                             85929                  0.143292             0.0819286\n",
       "Season                           36026.7                0.0600767            0.0343495\n",
       "Vegetable condition              23990.4                0.0400054            0.0228735\n",
       "\n",
       "[tips]\n",
       "Use `model.explain()` to inspect the model.\n",
       "--\n",
       "Use `h2o.display.toggle_user_tips()` to switch on/off this section."
      ]
     },
     "execution_count": 11,
     "metadata": {},
     "output_type": "execute_result"
    }
   ],
   "source": [
    "#Instanciation de l'automl\n",
    "aml = H2OAutoML(max_runtime_secs = 60)\n",
    "\n",
    "#Entrainement sur les données\n",
    "aml.train(y = yforh2o, training_frame = trainforh2o, leaderboard_frame = testforh2o)\n",
    "\n"
   ]
  },
  {
   "cell_type": "markdown",
   "id": "2c295ef4-317c-4418-8295-073089ab3680",
   "metadata": {
    "id": "2c295ef4-317c-4418-8295-073089ab3680"
   },
   "source": [
    " ### Classement des modèles"
   ]
  },
  {
   "cell_type": "code",
   "execution_count": null,
   "id": "38a0a8ed-8820-47a0-9802-2e77158b8886",
   "metadata": {
    "colab": {
     "base_uri": "https://localhost:8080/"
    },
    "executionInfo": {
     "elapsed": 61,
     "status": "ok",
     "timestamp": 1729763257808,
     "user": {
      "displayName": "Maimouna Timera",
      "userId": "04209297556515896791"
     },
     "user_tz": -120
    },
    "id": "38a0a8ed-8820-47a0-9802-2e77158b8886",
    "outputId": "e0ee86d4-b59d-4699-af3d-0479350359bf"
   },
   "outputs": [
    {
     "name": "stdout",
     "output_type": "stream",
     "text": [
      "Leaderboard des modèles AutoML\n",
      "model_id                                                   rmse      mse      mae     rmsle    mean_residual_deviance\n",
      "GBM_grid_1_AutoML_1_20241024_94634_model_9              28.388   805.877  17.7133  0.47607                    805.877\n",
      "GBM_grid_1_AutoML_1_20241024_94634_model_16             28.505   812.537  17.1264  0.46021                    812.537\n",
      "GBM_grid_1_AutoML_1_20241024_94634_model_10             28.6133  818.724  17.1722  0.458468                   818.724\n",
      "StackedEnsemble_BestOfFamily_3_AutoML_1_20241024_94634  29.7018  882.199  18.1662  0.457511                   882.199\n",
      "GBM_5_AutoML_1_20241024_94634                           29.8236  889.449  18.5114  0.454397                   889.449\n",
      "StackedEnsemble_AllModels_2_AutoML_1_20241024_94634     29.8586  891.535  18.0133  0.454827                   891.535\n",
      "StackedEnsemble_BestOfFamily_4_AutoML_1_20241024_94634  29.8944  893.675  18.4088  0.471535                   893.675\n",
      "GBM_grid_1_AutoML_1_20241024_94634_model_4              30.2406  914.496  18.2345  0.491681                   914.496\n",
      "XGBoost_3_AutoML_1_20241024_94634                       30.2838  917.107  18.4609  0.460779                   917.107\n",
      "GBM_grid_1_AutoML_1_20241024_94634_model_13             30.4209  925.432  17.7814  0.472262                   925.432\n",
      "[48 rows x 6 columns]\n",
      "\n"
     ]
    }
   ],
   "source": [
    "print(\"Leaderboard des modèles AutoML\")\n",
    "print(aml.leaderboard)\n"
   ]
  },
  {
   "cell_type": "markdown",
   "id": "8e1a99ec-202b-4b22-bc43-19eae59b4ba6",
   "metadata": {
    "id": "8e1a99ec-202b-4b22-bc43-19eae59b4ba6"
   },
   "source": [
    "### Résultats"
   ]
  },
  {
   "cell_type": "code",
   "execution_count": null,
   "id": "4881b6c1-f061-4006-8b95-efc4495ad69d",
   "metadata": {
    "colab": {
     "base_uri": "https://localhost:8080/"
    },
    "executionInfo": {
     "elapsed": 56,
     "status": "ok",
     "timestamp": 1729763257811,
     "user": {
      "displayName": "Maimouna Timera",
      "userId": "04209297556515896791"
     },
     "user_tz": -120
    },
    "id": "4881b6c1-f061-4006-8b95-efc4495ad69d",
    "outputId": "ac05e66b-9ad3-4d77-cc82-4b55fe6fa858"
   },
   "outputs": [
    {
     "name": "stdout",
     "output_type": "stream",
     "text": [
      "gbm prediction progress: |███████████████████████████████████████████████████████| (done) 100%\n",
      "Évaluation du modèle sur le jeu de test\n",
      "MSE: 805.8767918823899\n",
      "RMSE: 28.38796913980269\n",
      "Détails du meilleur modèle\n",
      "Model Details\n",
      "=============\n",
      "H2OGradientBoostingEstimator : Gradient Boosting Machine\n",
      "Model Key: GBM_grid_1_AutoML_1_20241024_94634_model_9\n",
      "\n",
      "\n",
      "Model Summary: \n",
      "    number_of_trees    number_of_internal_trees    model_size_in_bytes    min_depth    max_depth    mean_depth    min_leaves    max_leaves    mean_leaves\n",
      "--  -----------------  --------------------------  ---------------------  -----------  -----------  ------------  ------------  ------------  -------------\n",
      "    89                 89                          9743                   2            4            2.8764        3             6             4.02247\n",
      "\n",
      "ModelMetricsRegression: gbm\n",
      "** Reported on train data. **\n",
      "\n",
      "MSE: 346.94383608873034\n",
      "RMSE: 18.626428430827268\n",
      "MAE: 12.68387744864639\n",
      "RMSLE: 0.34357799442831655\n",
      "Mean Residual Deviance: 346.94383608873034\n",
      "\n",
      "ModelMetricsRegression: gbm\n",
      "** Reported on cross-validation data. **\n",
      "\n",
      "MSE: 725.2082869353468\n",
      "RMSE: 26.929691549205437\n",
      "MAE: 19.62513147504424\n",
      "RMSLE: 0.5354098626420652\n",
      "Mean Residual Deviance: 725.2082869353468\n",
      "\n",
      "Cross-Validation Metrics Summary: \n",
      "                        mean      sd         cv_1_valid    cv_2_valid    cv_3_valid    cv_4_valid    cv_5_valid\n",
      "----------------------  --------  ---------  ------------  ------------  ------------  ------------  ------------\n",
      "aic                     nan       0          nan           nan           nan           nan           nan\n",
      "loglikelihood           nan       0          nan           nan           nan           nan           nan\n",
      "mae                     19.6482   3.50258    15.1928       18.7774       21.8938       18.1326       24.2443\n",
      "mean_residual_deviance  729.67    213.085    388.527       777.04        702.172       817.385       963.226\n",
      "mse                     729.67    213.085    388.527       777.04        702.172       817.385       963.226\n",
      "r2                      0.656416  0.202953   0.822063      0.702385      0.713147      0.741313      0.303171\n",
      "residual_deviance       729.67    213.085    388.527       777.04        702.172       817.385       963.226\n",
      "rmse                    26.7422   4.26116    19.7111       27.8754       26.4985       28.5899       31.0359\n",
      "rmsle                   0.52618   0.0922866  0.479676      0.392235      0.574197      0.630401      0.554389\n",
      "\n",
      "Scoring History: \n",
      "    timestamp            duration    number_of_trees    training_rmse    training_mae    training_deviance\n",
      "--  -------------------  ----------  -----------------  ---------------  --------------  -------------------\n",
      "    2024-10-24 09:47:21  4.777 sec   0                  48.7892          35.7555         2380.38\n",
      "    2024-10-24 09:47:21  4.782 sec   5                  44.4534          31.885          1976.11\n",
      "    2024-10-24 09:47:21  4.786 sec   10                 40.626           28.7094         1650.47\n",
      "    2024-10-24 09:47:21  4.790 sec   15                 35.9471          24.971          1292.2\n",
      "    2024-10-24 09:47:21  4.795 sec   20                 33.3285          22.7007         1110.79\n",
      "    2024-10-24 09:47:21  4.800 sec   25                 31.4243          21.1368         987.484\n",
      "    2024-10-24 09:47:21  4.804 sec   30                 29.4251          19.7353         865.835\n",
      "    2024-10-24 09:47:21  4.808 sec   35                 27.0866          18.0783         733.684\n",
      "    2024-10-24 09:47:21  4.813 sec   40                 25.3612          17.006          643.19\n",
      "    2024-10-24 09:47:21  4.817 sec   45                 24.2016          16.2232         585.719\n",
      "    2024-10-24 09:47:21  4.822 sec   50                 23.0862          15.5269         532.972\n",
      "    2024-10-24 09:47:21  4.827 sec   55                 21.9853          14.8403         483.352\n",
      "    2024-10-24 09:47:21  4.831 sec   60                 21.4338          14.6692         459.408\n",
      "    2024-10-24 09:47:21  4.835 sec   65                 21.1279          14.6368         446.39\n",
      "    2024-10-24 09:47:21  4.840 sec   70                 19.9812          13.6375         399.248\n",
      "    2024-10-24 09:47:21  4.845 sec   75                 19.7347          13.5967         389.458\n",
      "    2024-10-24 09:47:21  4.850 sec   80                 19.4347          13.2763         377.706\n",
      "    2024-10-24 09:47:21  4.855 sec   85                 18.8009          12.7646         353.474\n",
      "    2024-10-24 09:47:21  4.859 sec   89                 18.6264          12.6839         346.944\n",
      "\n",
      "Variable Importances: \n",
      "variable                         relative_importance    scaled_importance    percentage\n",
      "-------------------------------  ---------------------  -------------------  ------------\n",
      "Vegetable                        599679                 1                    0.571761\n",
      "Deasaster Happen in last 3month  158805                 0.264816             0.151412\n",
      "Month                            144397                 0.240791             0.137675\n",
      "Temp                             85929                  0.143292             0.0819286\n",
      "Season                           36026.7                0.0600767            0.0343495\n",
      "Vegetable condition              23990.4                0.0400054            0.0228735\n",
      "Type de modèle : gbm\n"
     ]
    }
   ],
   "source": [
    "# Récupération du meilleur modèle\n",
    "best_model = aml.leader\n",
    "\n",
    "# Utilisation du meilleur modèle pour prédire les données de test\n",
    "pred = best_model.predict(testforh2o)\n",
    "\n",
    "# Évaluation des performances du modèle\n",
    "perf = best_model.model_performance(testforh2o)\n",
    "\n",
    "# Affichage des résultats des performances\n",
    "print(\"Évaluation du modèle sur le jeu de test\")\n",
    "print(f\"MSE: {perf.mse()}\")\n",
    "print(f\"RMSE: {perf.rmse()}\")\n",
    "\n",
    "# Affichage des détails du meilleur modèle\n",
    "print(\"Détails du meilleur modèle\")\n",
    "print(best_model)\n",
    "\n",
    "# Vérification du type du meilleur modèle\n",
    "model_type = best_model.algo\n",
    "print(f\"Type de modèle : {model_type}\")\n",
    "\n",
    "\n"
   ]
  },
  {
   "cell_type": "markdown",
   "id": "15177bd2-7e9a-49a6-97cf-468d9f78f6db",
   "metadata": {
    "id": "15177bd2-7e9a-49a6-97cf-468d9f78f6db"
   },
   "source": [
    "### Explications du modèle"
   ]
  },
  {
   "cell_type": "code",
   "execution_count": null,
   "id": "a3e5e3a7-1a62-4417-8471-b1da165b4c4d",
   "metadata": {
    "colab": {
     "base_uri": "https://localhost:8080/",
     "height": 832
    },
    "executionInfo": {
     "elapsed": 1284,
     "status": "ok",
     "timestamp": 1729763259042,
     "user": {
      "displayName": "Maimouna Timera",
      "userId": "04209297556515896791"
     },
     "user_tz": -120
    },
    "id": "a3e5e3a7-1a62-4417-8471-b1da165b4c4d",
    "outputId": "1e36953b-4ea2-4ef4-b7f7-d68047813cf0"
   },
   "outputs": [
    {
     "data": {
      "text/html": [
       "<h1>Residual Analysis</h1>"
      ],
      "text/markdown": [
       "\n",
       "\n",
       "# Residual Analysis"
      ],
      "text/plain": [
       "\n",
       "\n",
       "# Residual Analysis"
      ]
     },
     "metadata": {},
     "output_type": "display_data"
    },
    {
     "data": {
      "text/html": [
       "<blockquote>Residual Analysis plots the fitted values vs residuals on a test dataset. Ideally, residuals should be randomly distributed. Patterns in this plot can indicate potential problems with the model selection, e.g., using simpler model than necessary, not accounting for heteroscedasticity, autocorrelation, etc. Note that if you see \"striped\" lines of residuals, that is an artifact of having an integer valued (vs a real valued) response variable.</blockquote>"
      ],
      "text/markdown": [
       "\n",
       "> Residual Analysis plots the fitted values vs residuals on a test dataset. Ideally, residuals should be randomly distributed. Patterns in this plot can indicate potential problems with the model selection, e.g., using simpler model than necessary, not accounting for heteroscedasticity, autocorrelation, etc. Note that if you see \"striped\" lines of residuals, that is an artifact of having an integer valued (vs a real valued) response variable."
      ],
      "text/plain": [
       "\n",
       "> Residual Analysis plots the fitted values vs residuals on a test dataset. Ideally, residuals should be randomly distributed. Patterns in this plot can indicate potential problems with the model selection, e.g., using simpler model than necessary, not accounting for heteroscedasticity, autocorrelation, etc. Note that if you see \"striped\" lines of residuals, that is an artifact of having an integer valued (vs a real valued) response variable."
      ]
     },
     "metadata": {},
     "output_type": "display_data"
    },
    {
     "data": {
      "image/png": "[encoded data removed]",
      "text/plain": [
       "<Figure size 1600x900 with 1 Axes>"
      ]
     },
     "metadata": {},
     "output_type": "display_data"
    },
    {
     "name": "stdout",
     "output_type": "stream",
     "text": [
      "\n",
      "\n"
     ]
    }
   ],
   "source": [
    "# Analyse des Résidus (indiqué que pour la régression)\n",
    "residual_explanation = h2o.explain(best_model, testforh2o, include_explanations=\"residual_analysis\")\n",
    "\n"
   ]
  },
  {
   "cell_type": "code",
   "execution_count": null,
   "id": "5c56675a-107b-4044-ac0e-f37fb717833c",
   "metadata": {
    "colab": {
     "base_uri": "https://localhost:8080/"
    },
    "executionInfo": {
     "elapsed": 194,
     "status": "ok",
     "timestamp": 1729763259042,
     "user": {
      "displayName": "Maimouna Timera",
      "userId": "04209297556515896791"
     },
     "user_tz": -120
    },
    "id": "5c56675a-107b-4044-ac0e-f37fb717833c",
    "outputId": "22953186-86d3-4221-b478-e24b57b6bc1d"
   },
   "outputs": [
    {
     "name": "stdout",
     "output_type": "stream",
     "text": [
      "H2O session _sid_b755 closed.\n"
     ]
    }
   ],
   "source": [
    "#Fermeture du cluster de H2O\n",
    "h2o.cluster().shutdown()"
   ]
  },
  {
   "cell_type": "markdown",
   "id": "55097494-8bac-40a0-a292-cd16b0279ae5",
   "metadata": {
    "id": "55097494-8bac-40a0-a292-cd16b0279ae5"
   },
   "source": [
    "## LazyPredict AutoML"
   ]
  },
  {
   "cell_type": "markdown",
   "id": "cad509e3-459c-4fe1-b15f-6f2499275321",
   "metadata": {
    "id": "cad509e3-459c-4fe1-b15f-6f2499275321"
   },
   "source": [
    "### Prétraitement minimal"
   ]
  },
  {
   "cell_type": "code",
   "execution_count": null,
   "id": "9d93cd07-09a4-4ce7-b312-c641444b7000",
   "metadata": {
    "id": "9d93cd07-09a4-4ce7-b312-c641444b7000"
   },
   "outputs": [],
   "source": [
    "cat_col = [\"Vegetable\", \"Season\", \"Month\", \"Deasaster Happen in last 3month\", \"Vegetable condition\"]\n",
    "\n",
    "data_forlazypredict = pd.get_dummies(df_vegetable, columns = cat_col)\n",
    "\n",
    "Xforlazypredict = data_forlazypredict.drop(columns=['Price per kg'])\n",
    "yforlazypredict = data_forlazypredict['Price per kg']\n",
    "\n",
    "Xforlazypredict = Xforlazypredict.astype(np.float32)"
   ]
  },
  {
   "cell_type": "markdown",
   "id": "b0b9f9ca-56fb-46fb-9d0e-77a61b4a27f4",
   "metadata": {
    "id": "b0b9f9ca-56fb-46fb-9d0e-77a61b4a27f4"
   },
   "source": [
    "### Split Train/Test"
   ]
  },
  {
   "cell_type": "code",
   "execution_count": null,
   "id": "a3f0ee15-5d22-4678-ac85-fa6cd06b8392",
   "metadata": {
    "id": "a3f0ee15-5d22-4678-ac85-fa6cd06b8392"
   },
   "outputs": [],
   "source": [
    "X_trainforlazypredict, X_testforlazypredict, y_trainforlazypredict, y_testforlazypredict = train_test_split(Xforlazypredict, yforlazypredict, train_size = 0.8, random_state = 42)"
   ]
  },
  {
   "cell_type": "markdown",
   "id": "82a8b3a3-3ff9-45a9-8f16-1e595fecc828",
   "metadata": {
    "id": "82a8b3a3-3ff9-45a9-8f16-1e595fecc828"
   },
   "source": [
    "### Utilisation de LazyPredict"
   ]
  },
  {
   "cell_type": "code",
   "execution_count": null,
   "id": "4c4306e2-5685-493d-b16b-4b8e195479ce",
   "metadata": {
    "id": "4c4306e2-5685-493d-b16b-4b8e195479ce"
   },
   "outputs": [],
   "source": [
    "reg = LazyRegressor(predictions=True,verbose=1,ignore_warnings=True, custom_metric=None)"
   ]
  },
  {
   "cell_type": "markdown",
   "id": "964899d5-8036-4c91-b76e-8133fb109726",
   "metadata": {
    "id": "964899d5-8036-4c91-b76e-8133fb109726"
   },
   "source": [
    "### Fit le modèle"
   ]
  },
  {
   "cell_type": "code",
   "execution_count": null,
   "id": "b369d046-b454-4f93-b0b5-249f49b5d090",
   "metadata": {
    "colab": {
     "base_uri": "https://localhost:8080/"
    },
    "executionInfo": {
     "elapsed": 4619,
     "status": "ok",
     "timestamp": 1729763263627,
     "user": {
      "displayName": "Maimouna Timera",
      "userId": "04209297556515896791"
     },
     "user_tz": -120
    },
    "id": "b369d046-b454-4f93-b0b5-249f49b5d090",
    "outputId": "820d67ec-4690-4a92-ab14-79203d93cf42"
   },
   "outputs": [
    {
     "name": "stderr",
     "output_type": "stream",
     "text": [
      "  2%|▏         | 1/42 [00:00<00:04,  8.60it/s]"
     ]
    },
    {
     "name": "stdout",
     "output_type": "stream",
     "text": [
      "{'Model': 'AdaBoostRegressor', 'R-Squared': 0.7944233855716794, 'Adjusted R-Squared': 1.308364921642481, 'RMSE': 25.18667595625701, 'Time taken': 0.11607789993286133}\n"
     ]
    },
    {
     "name": "stderr",
     "output_type": "stream",
     "text": [
      "\r 12%|█▏        | 5/42 [00:00<00:01, 24.37it/s]"
     ]
    },
    {
     "name": "stdout",
     "output_type": "stream",
     "text": [
      "{'Model': 'BaggingRegressor', 'R-Squared': 0.9248791106980564, 'Adjusted R-Squared': 1.1126813339529154, 'RMSE': 15.225247466013828, 'Time taken': 0.04486703872680664}\n",
      "{'Model': 'BayesianRidge', 'R-Squared': 0.8681309223175049, 'Adjusted R-Squared': 1.1978036165237427, 'RMSE': 20.172302155842974, 'Time taken': 0.021330595016479492}\n",
      "{'Model': 'DecisionTreeRegressor', 'R-Squared': 0.9541090788928952, 'Adjusted R-Squared': 1.0688363816606572, 'RMSE': 11.900011671329477, 'Time taken': 0.021522998809814453}\n",
      "{'Model': 'DummyRegressor', 'R-Squared': -0.0004640645435889379, 'Adjusted R-Squared': 2.5006960968153833, 'RMSE': 55.56287979497742, 'Time taken': 0.019950151443481445}\n",
      "{'Model': 'ElasticNet', 'R-Squared': 0.7663938403129578, 'Adjusted R-Squared': 1.3504092395305634, 'RMSE': 26.84887666216186, 'Time taken': 0.026470184326171875}\n"
     ]
    },
    {
     "name": "stderr",
     "output_type": "stream",
     "text": [
      " 26%|██▌       | 11/42 [00:00<00:01, 18.00it/s]"
     ]
    },
    {
     "name": "stdout",
     "output_type": "stream",
     "text": [
      "{'Model': 'ElasticNetCV', 'R-Squared': 0.8487849235534668, 'Adjusted R-Squared': 1.2268226146697998, 'RMSE': 21.60137994442319, 'Time taken': 0.1385056972503662}\n",
      "{'Model': 'ExtraTreeRegressor', 'R-Squared': 0.953744505875628, 'Adjusted R-Squared': 1.069383241186558, 'RMSE': 11.947187023637731, 'Time taken': 0.01426386833190918}\n",
      "{'Model': 'ExtraTreesRegressor', 'R-Squared': 0.9564488618523699, 'Adjusted R-Squared': 1.0653267072214452, 'RMSE': 11.592677506847929, 'Time taken': 0.1437370777130127}\n",
      "{'Model': 'GammaRegressor', 'R-Squared': 0.6051319092460267, 'Adjusted R-Squared': 1.59230213613096, 'RMSE': 34.9067985675793, 'Time taken': 0.022140026092529297}\n",
      "{'Model': 'GaussianProcessRegressor', 'R-Squared': 0.8691299888060647, 'Adjusted R-Squared': 1.1963050167909028, 'RMSE': 20.09574307992276, 'Time taken': 0.018994569778442383}\n"
     ]
    },
    {
     "name": "stderr",
     "output_type": "stream",
     "text": [
      "\r 31%|███       | 13/42 [00:00<00:02, 12.45it/s]"
     ]
    },
    {
     "name": "stdout",
     "output_type": "stream",
     "text": [
      "{'Model': 'GradientBoostingRegressor', 'R-Squared': 0.9443819613755694, 'Adjusted R-Squared': 1.0834270579366458, 'RMSE': 13.100619549323985, 'Time taken': 0.18600702285766602}\n",
      "{'Model': 'HistGradientBoostingRegressor', 'R-Squared': 0.32139827507596974, 'Adjusted R-Squared': 2.0179025873860454, 'RMSE': 45.76057570150678, 'Time taken': 0.09840989112854004}\n",
      "{'Model': 'HuberRegressor', 'R-Squared': 0.8381961888341993, 'Adjusted R-Squared': 1.242705716748701, 'RMSE': 22.344897837795667, 'Time taken': 0.07654809951782227}\n"
     ]
    },
    {
     "name": "stderr",
     "output_type": "stream",
     "text": [
      " 43%|████▎     | 18/42 [00:01<00:01, 14.81it/s]"
     ]
    },
    {
     "name": "stdout",
     "output_type": "stream",
     "text": [
      "{'Model': 'KNeighborsRegressor', 'R-Squared': 0.40678130441049754, 'Adjusted R-Squared': 1.8898280433842536, 'RMSE': 42.784988021501185, 'Time taken': 0.027499914169311523}\n",
      "{'Model': 'KernelRidge', 'R-Squared': -0.07470853803238064, 'Adjusted R-Squared': 2.612062807048571, 'RMSE': 57.58764907681144, 'Time taken': 0.029099464416503906}\n",
      "{'Model': 'Lars', 'R-Squared': -1.3876916497311334e+17, 'Adjusted R-Squared': 2.0815374745967e+17, 'RMSE': 20693334465.900475, 'Time taken': 0.0483705997467041}\n",
      "{'Model': 'LarsCV', 'R-Squared': 0.7695860862731934, 'Adjusted R-Squared': 1.34562087059021, 'RMSE': 26.66480191732627, 'Time taken': 0.09475016593933105}\n"
     ]
    },
    {
     "name": "stderr",
     "output_type": "stream",
     "text": [
      " 52%|█████▏    | 22/42 [00:01<00:01, 11.99it/s]"
     ]
    },
    {
     "name": "stdout",
     "output_type": "stream",
     "text": [
      "{'Model': 'Lasso', 'R-Squared': 0.8787552118301392, 'Adjusted R-Squared': 1.1818671822547913, 'RMSE': 19.342630826669406, 'Time taken': 0.026581525802612305}\n",
      "{'Model': 'LassoCV', 'R-Squared': 0.8532406687736511, 'Adjusted R-Squared': 1.2201389968395233, 'RMSE': 21.28074860610503, 'Time taken': 0.2905709743499756}\n",
      "{'Model': 'LassoLars', 'R-Squared': 0.87656170129776, 'Adjusted R-Squared': 1.18515744805336, 'RMSE': 19.51681371443772, 'Time taken': 0.031386375427246094}\n",
      "{'Model': 'LassoLarsCV', 'R-Squared': 0.8637377619743347, 'Adjusted R-Squared': 1.204393357038498, 'RMSE': 20.505565082726882, 'Time taken': 0.08586311340332031}\n",
      "{'Model': 'LassoLarsIC', 'R-Squared': 0.8528677225112915, 'Adjusted R-Squared': 1.2206984162330627, 'RMSE': 21.30776633626981, 'Time taken': 0.031161785125732422}\n",
      "{'Model': 'LinearRegression', 'R-Squared': 0.8109239339828491, 'Adjusted R-Squared': 1.2836140990257263, 'RMSE': 24.154733002403415, 'Time taken': 0.019546031951904297}\n",
      "{'Model': 'LinearSVR', 'R-Squared': 0.4990637547463024, 'Adjusted R-Squared': 1.7514043678805464, 'RMSE': 39.31653427124335, 'Time taken': 0.01920914649963379}\n"
     ]
    },
    {
     "name": "stderr",
     "output_type": "stream",
     "text": [
      " 67%|██████▋   | 28/42 [00:02<00:01,  9.28it/s]"
     ]
    },
    {
     "name": "stdout",
     "output_type": "stream",
     "text": [
      "{'Model': 'MLPRegressor', 'R-Squared': 0.023590683937072754, 'Adjusted R-Squared': 2.464613974094391, 'RMSE': 54.890846604507914, 'Time taken': 0.5746681690216064}\n",
      "{'Model': 'NuSVR', 'R-Squared': 0.0023794651896171803, 'Adjusted R-Squared': 2.496430802215574, 'RMSE': 55.48386290184503, 'Time taken': 0.07989811897277832}\n",
      "{'Model': 'OrthogonalMatchingPursuit', 'R-Squared': 0.593172013759613, 'Adjusted R-Squared': 1.6102419793605804, 'RMSE': 35.4314879310601, 'Time taken': 0.04718804359436035}\n"
     ]
    },
    {
     "name": "stderr",
     "output_type": "stream",
     "text": [
      "\r 71%|███████▏  | 30/42 [00:02<00:01, 10.48it/s]"
     ]
    },
    {
     "name": "stdout",
     "output_type": "stream",
     "text": [
      "{'Model': 'OrthogonalMatchingPursuitCV', 'R-Squared': 0.7529335618019104, 'Adjusted R-Squared': 1.3705996572971344, 'RMSE': 27.611554481254792, 'Time taken': 0.06443905830383301}\n",
      "{'Model': 'PassiveAggressiveRegressor', 'R-Squared': 0.8658668800470828, 'Adjusted R-Squared': 1.2011996799293758, 'RMSE': 20.344733868097265, 'Time taken': 0.04792952537536621}\n",
      "{'Model': 'PoissonRegressor', 'R-Squared': 0.9244128690044175, 'Adjusted R-Squared': 1.1133806964933737, 'RMSE': 15.272422524458193, 'Time taken': 0.036438941955566406}\n",
      "{'Model': 'QuantileRegressor', 'R-Squared': -0.14674903273107365, 'Adjusted R-Squared': 2.7201235490966105, 'RMSE': 59.486469049692296, 'Time taken': 0.042864322662353516}\n"
     ]
    },
    {
     "name": "stderr",
     "output_type": "stream",
     "text": [
      "\r 79%|███████▊  | 33/42 [00:02<00:00,  9.92it/s]"
     ]
    },
    {
     "name": "stdout",
     "output_type": "stream",
     "text": [
      "{'Model': 'RANSACRegressor', 'R-Squared': 0.7076363563537598, 'Adjusted R-Squared': 1.4385454654693604, 'RMSE': 30.03624625087425, 'Time taken': 0.24202942848205566}\n"
     ]
    },
    {
     "name": "stderr",
     "output_type": "stream",
     "text": [
      " 88%|████████▊ | 37/42 [00:03<00:00,  9.73it/s]"
     ]
    },
    {
     "name": "stdout",
     "output_type": "stream",
     "text": [
      "{'Model': 'RandomForestRegressor', 'R-Squared': 0.9119613957534168, 'Adjusted R-Squared': 1.1320579063698748, 'RMSE': 16.482404734924845, 'Time taken': 0.31159305572509766}\n",
      "{'Model': 'Ridge', 'R-Squared': 0.8450967669487, 'Adjusted R-Squared': 1.23235484957695, 'RMSE': 21.86322673049289, 'Time taken': 0.02011585235595703}\n",
      "{'Model': 'RidgeCV', 'R-Squared': 0.8712389962402398, 'Adjusted R-Squared': 1.1931415056396402, 'RMSE': 19.933161099521424, 'Time taken': 0.06973671913146973}\n",
      "{'Model': 'SGDRegressor', 'R-Squared': 0.8741344627429531, 'Adjusted R-Squared': 1.1887983058855702, 'RMSE': 19.707766901723154, 'Time taken': 0.04992222785949707}\n",
      "{'Model': 'SVR', 'R-Squared': -0.10618438994948765, 'Adjusted R-Squared': 2.6592765849242315, 'RMSE': 58.42487107731735, 'Time taken': 0.04569196701049805}\n"
     ]
    },
    {
     "name": "stderr",
     "output_type": "stream",
     "text": [
      "\r 95%|█████████▌| 40/42 [00:03<00:00, 12.54it/s]"
     ]
    },
    {
     "name": "stdout",
     "output_type": "stream",
     "text": [
      "{'Model': 'TransformedTargetRegressor', 'R-Squared': 0.8109239339828491, 'Adjusted R-Squared': 1.2836140990257263, 'RMSE': 24.154733002403415, 'Time taken': 0.037278175354003906}\n",
      "{'Model': 'TweedieRegressor', 'R-Squared': 0.6815470806779228, 'Adjusted R-Squared': 1.4776793789831157, 'RMSE': 31.347767511718228, 'Time taken': 0.025328636169433594}\n"
     ]
    },
    {
     "name": "stderr",
     "output_type": "stream",
     "text": [
      "100%|██████████| 42/42 [00:05<00:00,  8.25it/s]"
     ]
    },
    {
     "name": "stdout",
     "output_type": "stream",
     "text": [
      "{'Model': 'XGBRegressor', 'R-Squared': 0.9597822427749634, 'Adjusted R-Squared': 1.060326635837555, 'RMSE': 11.140197311918635, 'Time taken': 1.556056022644043}\n",
      "[LightGBM] [Info] Auto-choosing col-wise multi-threading, the overhead of testing was 0.000116 seconds.\n",
      "You can set `force_col_wise=true` to remove the overhead.\n",
      "[LightGBM] [Info] Total Bins 32\n",
      "[LightGBM] [Info] Number of data points in the train set: 96, number of used features: 7\n",
      "[LightGBM] [Info] Start training from score 55.083333\n",
      "[LightGBM] [Warning] No further splits with positive gain, best gain: -inf\n",
      "[LightGBM] [Warning] No further splits with positive gain, best gain: -inf\n",
      "[LightGBM] [Warning] No further splits with positive gain, best gain: -inf\n",
      "[LightGBM] [Warning] No further splits with positive gain, best gain: -inf\n",
      "[LightGBM] [Warning] No further splits with positive gain, best gain: -inf\n",
      "[LightGBM] [Warning] No further splits with positive gain, best gain: -inf\n",
      "[LightGBM] [Warning] No further splits with positive gain, best gain: -inf\n",
      "[LightGBM] [Warning] No further splits with positive gain, best gain: -inf\n",
      "[LightGBM] [Warning] No further splits with positive gain, best gain: -inf\n",
      "[LightGBM] [Warning] No further splits with positive gain, best gain: -inf\n",
      "[LightGBM] [Warning] No further splits with positive gain, best gain: -inf\n",
      "[LightGBM] [Warning] No further splits with positive gain, best gain: -inf\n",
      "[LightGBM] [Warning] No further splits with positive gain, best gain: -inf\n",
      "[LightGBM] [Warning] No further splits with positive gain, best gain: -inf\n",
      "[LightGBM] [Warning] No further splits with positive gain, best gain: -inf\n",
      "[LightGBM] [Warning] No further splits with positive gain, best gain: -inf\n",
      "[LightGBM] [Warning] No further splits with positive gain, best gain: -inf\n",
      "[LightGBM] [Warning] No further splits with positive gain, best gain: -inf\n",
      "[LightGBM] [Warning] No further splits with positive gain, best gain: -inf\n",
      "[LightGBM] [Warning] No further splits with positive gain, best gain: -inf\n",
      "[LightGBM] [Warning] No further splits with positive gain, best gain: -inf\n",
      "[LightGBM] [Warning] No further splits with positive gain, best gain: -inf\n",
      "[LightGBM] [Warning] No further splits with positive gain, best gain: -inf\n",
      "[LightGBM] [Warning] No further splits with positive gain, best gain: -inf\n",
      "[LightGBM] [Warning] No further splits with positive gain, best gain: -inf\n",
      "[LightGBM] [Warning] No further splits with positive gain, best gain: -inf\n",
      "[LightGBM] [Warning] No further splits with positive gain, best gain: -inf\n",
      "[LightGBM] [Warning] No further splits with positive gain, best gain: -inf\n",
      "[LightGBM] [Warning] No further splits with positive gain, best gain: -inf\n",
      "[LightGBM] [Warning] No further splits with positive gain, best gain: -inf\n",
      "[LightGBM] [Warning] No further splits with positive gain, best gain: -inf\n",
      "[LightGBM] [Warning] No further splits with positive gain, best gain: -inf\n",
      "[LightGBM] [Warning] No further splits with positive gain, best gain: -inf\n",
      "[LightGBM] [Warning] No further splits with positive gain, best gain: -inf\n",
      "[LightGBM] [Warning] No further splits with positive gain, best gain: -inf\n",
      "[LightGBM] [Warning] No further splits with positive gain, best gain: -inf\n",
      "[LightGBM] [Warning] No further splits with positive gain, best gain: -inf\n",
      "[LightGBM] [Warning] No further splits with positive gain, best gain: -inf\n",
      "[LightGBM] [Warning] No further splits with positive gain, best gain: -inf\n",
      "[LightGBM] [Warning] No further splits with positive gain, best gain: -inf\n",
      "[LightGBM] [Warning] No further splits with positive gain, best gain: -inf\n",
      "[LightGBM] [Warning] No further splits with positive gain, best gain: -inf\n",
      "[LightGBM] [Warning] No further splits with positive gain, best gain: -inf\n",
      "[LightGBM] [Warning] No further splits with positive gain, best gain: -inf\n",
      "[LightGBM] [Warning] No further splits with positive gain, best gain: -inf\n",
      "[LightGBM] [Warning] No further splits with positive gain, best gain: -inf\n",
      "[LightGBM] [Warning] No further splits with positive gain, best gain: -inf\n",
      "[LightGBM] [Warning] No further splits with positive gain, best gain: -inf\n",
      "[LightGBM] [Warning] No further splits with positive gain, best gain: -inf\n",
      "[LightGBM] [Warning] No further splits with positive gain, best gain: -inf\n",
      "[LightGBM] [Warning] No further splits with positive gain, best gain: -inf\n",
      "[LightGBM] [Warning] No further splits with positive gain, best gain: -inf\n",
      "[LightGBM] [Warning] No further splits with positive gain, best gain: -inf\n",
      "[LightGBM] [Warning] No further splits with positive gain, best gain: -inf\n",
      "[LightGBM] [Warning] No further splits with positive gain, best gain: -inf\n",
      "[LightGBM] [Warning] No further splits with positive gain, best gain: -inf\n",
      "[LightGBM] [Warning] No further splits with positive gain, best gain: -inf\n",
      "[LightGBM] [Warning] No further splits with positive gain, best gain: -inf\n",
      "[LightGBM] [Warning] No further splits with positive gain, best gain: -inf\n",
      "[LightGBM] [Warning] No further splits with positive gain, best gain: -inf\n",
      "[LightGBM] [Warning] No further splits with positive gain, best gain: -inf\n",
      "[LightGBM] [Warning] No further splits with positive gain, best gain: -inf\n",
      "[LightGBM] [Warning] No further splits with positive gain, best gain: -inf\n",
      "[LightGBM] [Warning] No further splits with positive gain, best gain: -inf\n",
      "[LightGBM] [Warning] No further splits with positive gain, best gain: -inf\n",
      "[LightGBM] [Warning] No further splits with positive gain, best gain: -inf\n",
      "[LightGBM] [Warning] No further splits with positive gain, best gain: -inf\n",
      "[LightGBM] [Warning] No further splits with positive gain, best gain: -inf\n",
      "[LightGBM] [Warning] No further splits with positive gain, best gain: -inf\n",
      "[LightGBM] [Warning] No further splits with positive gain, best gain: -inf\n",
      "[LightGBM] [Warning] No further splits with positive gain, best gain: -inf\n",
      "[LightGBM] [Warning] No further splits with positive gain, best gain: -inf\n",
      "[LightGBM] [Warning] No further splits with positive gain, best gain: -inf\n",
      "[LightGBM] [Warning] No further splits with positive gain, best gain: -inf\n",
      "[LightGBM] [Warning] No further splits with positive gain, best gain: -inf\n",
      "[LightGBM] [Warning] No further splits with positive gain, best gain: -inf\n",
      "[LightGBM] [Warning] No further splits with positive gain, best gain: -inf\n",
      "[LightGBM] [Warning] No further splits with positive gain, best gain: -inf\n",
      "[LightGBM] [Warning] No further splits with positive gain, best gain: -inf\n",
      "[LightGBM] [Warning] No further splits with positive gain, best gain: -inf\n",
      "[LightGBM] [Warning] No further splits with positive gain, best gain: -inf\n",
      "[LightGBM] [Warning] No further splits with positive gain, best gain: -inf\n",
      "[LightGBM] [Warning] No further splits with positive gain, best gain: -inf\n",
      "[LightGBM] [Warning] No further splits with positive gain, best gain: -inf\n",
      "[LightGBM] [Warning] No further splits with positive gain, best gain: -inf\n",
      "[LightGBM] [Warning] No further splits with positive gain, best gain: -inf\n",
      "[LightGBM] [Warning] No further splits with positive gain, best gain: -inf\n",
      "[LightGBM] [Warning] No further splits with positive gain, best gain: -inf\n",
      "[LightGBM] [Warning] No further splits with positive gain, best gain: -inf\n",
      "[LightGBM] [Warning] No further splits with positive gain, best gain: -inf\n",
      "[LightGBM] [Warning] No further splits with positive gain, best gain: -inf\n",
      "[LightGBM] [Warning] No further splits with positive gain, best gain: -inf\n",
      "[LightGBM] [Warning] No further splits with positive gain, best gain: -inf\n",
      "[LightGBM] [Warning] No further splits with positive gain, best gain: -inf\n",
      "[LightGBM] [Warning] No further splits with positive gain, best gain: -inf\n",
      "[LightGBM] [Warning] No further splits with positive gain, best gain: -inf\n",
      "[LightGBM] [Warning] No further splits with positive gain, best gain: -inf\n",
      "[LightGBM] [Warning] No further splits with positive gain, best gain: -inf\n",
      "[LightGBM] [Warning] No further splits with positive gain, best gain: -inf\n",
      "[LightGBM] [Warning] No further splits with positive gain, best gain: -inf\n",
      "{'Model': 'LGBMRegressor', 'R-Squared': 0.3212196348882045, 'Adjusted R-Squared': 2.018170547667693, 'RMSE': 45.76659848307019, 'Time taken': 0.08452796936035156}\n"
     ]
    },
    {
     "name": "stderr",
     "output_type": "stream",
     "text": [
      "\n"
     ]
    }
   ],
   "source": [
    "models,predictions = reg.fit(X_trainforlazypredict, X_testforlazypredict, y_trainforlazypredict, y_testforlazypredict)"
   ]
  },
  {
   "cell_type": "markdown",
   "id": "f84e7b90-4e89-4c62-97c9-c5bc182cda64",
   "metadata": {
    "id": "f84e7b90-4e89-4c62-97c9-c5bc182cda64"
   },
   "source": [
    "### Résultats"
   ]
  },
  {
   "cell_type": "code",
   "execution_count": null,
   "id": "0d9c5e4f-2b67-4c39-87c9-bf4ca6c05069",
   "metadata": {
    "colab": {
     "base_uri": "https://localhost:8080/"
    },
    "executionInfo": {
     "elapsed": 20,
     "status": "ok",
     "timestamp": 1729763263628,
     "user": {
      "displayName": "Maimouna Timera",
      "userId": "04209297556515896791"
     },
     "user_tz": -120
    },
    "id": "0d9c5e4f-2b67-4c39-87c9-bf4ca6c05069",
    "outputId": "65f4ed2b-70d1-41dd-ebf8-d63fc6b6ae26"
   },
   "outputs": [
    {
     "name": "stdout",
     "output_type": "stream",
     "text": [
      "                                 Adjusted R-Squared              R-Squared  \\\n",
      "Model                                                                        \n",
      "Lars                          208153747459670016.00 -138769164973113344.00   \n",
      "QuantileRegressor                              2.72                  -0.15   \n",
      "SVR                                            2.66                  -0.11   \n",
      "KernelRidge                                    2.61                  -0.07   \n",
      "DummyRegressor                                 2.50                  -0.00   \n",
      "NuSVR                                          2.50                   0.00   \n",
      "MLPRegressor                                   2.46                   0.02   \n",
      "LGBMRegressor                                  2.02                   0.32   \n",
      "HistGradientBoostingRegressor                  2.02                   0.32   \n",
      "KNeighborsRegressor                            1.89                   0.41   \n",
      "LinearSVR                                      1.75                   0.50   \n",
      "OrthogonalMatchingPursuit                      1.61                   0.59   \n",
      "GammaRegressor                                 1.59                   0.61   \n",
      "TweedieRegressor                               1.48                   0.68   \n",
      "RANSACRegressor                                1.44                   0.71   \n",
      "OrthogonalMatchingPursuitCV                    1.37                   0.75   \n",
      "ElasticNet                                     1.35                   0.77   \n",
      "LarsCV                                         1.35                   0.77   \n",
      "AdaBoostRegressor                              1.31                   0.79   \n",
      "TransformedTargetRegressor                     1.28                   0.81   \n",
      "LinearRegression                               1.28                   0.81   \n",
      "HuberRegressor                                 1.24                   0.84   \n",
      "Ridge                                          1.23                   0.85   \n",
      "ElasticNetCV                                   1.23                   0.85   \n",
      "LassoLarsIC                                    1.22                   0.85   \n",
      "LassoCV                                        1.22                   0.85   \n",
      "LassoLarsCV                                    1.20                   0.86   \n",
      "PassiveAggressiveRegressor                     1.20                   0.87   \n",
      "BayesianRidge                                  1.20                   0.87   \n",
      "GaussianProcessRegressor                       1.20                   0.87   \n",
      "RidgeCV                                        1.19                   0.87   \n",
      "SGDRegressor                                   1.19                   0.87   \n",
      "LassoLars                                      1.19                   0.88   \n",
      "Lasso                                          1.18                   0.88   \n",
      "RandomForestRegressor                          1.13                   0.91   \n",
      "PoissonRegressor                               1.11                   0.92   \n",
      "BaggingRegressor                               1.11                   0.92   \n",
      "GradientBoostingRegressor                      1.08                   0.94   \n",
      "ExtraTreeRegressor                             1.07                   0.95   \n",
      "DecisionTreeRegressor                          1.07                   0.95   \n",
      "ExtraTreesRegressor                            1.07                   0.96   \n",
      "XGBRegressor                                   1.06                   0.96   \n",
      "\n",
      "                                        RMSE  Time Taken  \n",
      "Model                                                     \n",
      "Lars                          20693334465.90        0.05  \n",
      "QuantileRegressor                      59.49        0.04  \n",
      "SVR                                    58.42        0.05  \n",
      "KernelRidge                            57.59        0.03  \n",
      "DummyRegressor                         55.56        0.02  \n",
      "NuSVR                                  55.48        0.08  \n",
      "MLPRegressor                           54.89        0.57  \n",
      "LGBMRegressor                          45.77        0.08  \n",
      "HistGradientBoostingRegressor          45.76        0.10  \n",
      "KNeighborsRegressor                    42.78        0.03  \n",
      "LinearSVR                              39.32        0.02  \n",
      "OrthogonalMatchingPursuit              35.43        0.05  \n",
      "GammaRegressor                         34.91        0.02  \n",
      "TweedieRegressor                       31.35        0.03  \n",
      "RANSACRegressor                        30.04        0.24  \n",
      "OrthogonalMatchingPursuitCV            27.61        0.06  \n",
      "ElasticNet                             26.85        0.03  \n",
      "LarsCV                                 26.66        0.09  \n",
      "AdaBoostRegressor                      25.19        0.12  \n",
      "TransformedTargetRegressor             24.15        0.04  \n",
      "LinearRegression                       24.15        0.02  \n",
      "HuberRegressor                         22.34        0.08  \n",
      "Ridge                                  21.86        0.02  \n",
      "ElasticNetCV                           21.60        0.14  \n",
      "LassoLarsIC                            21.31        0.03  \n",
      "LassoCV                                21.28        0.29  \n",
      "LassoLarsCV                            20.51        0.09  \n",
      "PassiveAggressiveRegressor             20.34        0.05  \n",
      "BayesianRidge                          20.17        0.02  \n",
      "GaussianProcessRegressor               20.10        0.02  \n",
      "RidgeCV                                19.93        0.07  \n",
      "SGDRegressor                           19.71        0.05  \n",
      "LassoLars                              19.52        0.03  \n",
      "Lasso                                  19.34        0.03  \n",
      "RandomForestRegressor                  16.48        0.31  \n",
      "PoissonRegressor                       15.27        0.04  \n",
      "BaggingRegressor                       15.23        0.04  \n",
      "GradientBoostingRegressor              13.10        0.19  \n",
      "ExtraTreeRegressor                     11.95        0.01  \n",
      "DecisionTreeRegressor                  11.90        0.02  \n",
      "ExtraTreesRegressor                    11.59        0.14  \n",
      "XGBRegressor                           11.14        1.56  \n"
     ]
    }
   ],
   "source": [
    "print(models)"
   ]
  },
  {
   "cell_type": "markdown",
   "id": "4cfb10f5-c188-40e6-8da2-f9c2a7c54249",
   "metadata": {
    "id": "4cfb10f5-c188-40e6-8da2-f9c2a7c54249"
   },
   "source": [
    "## TPOT autoML"
   ]
  },
  {
   "cell_type": "markdown",
   "id": "fc47dcd2-c1b3-4406-9bad-674f9470eafd",
   "metadata": {
    "id": "fc47dcd2-c1b3-4406-9bad-674f9470eafd"
   },
   "source": [
    "### Initialisation données (prétraitement) - Paramètres modèle"
   ]
  },
  {
   "cell_type": "code",
   "execution_count": null,
   "id": "00ef642a-59cf-45f3-affa-060b9facbdef",
   "metadata": {
    "id": "00ef642a-59cf-45f3-affa-060b9facbdef"
   },
   "outputs": [],
   "source": [
    "# Categorical Variables\n",
    "cat_col = [\"Vegetable\", \"Season\", \"Month\", \"Deasaster Happen in last 3month\", \"Vegetable condition\"]\n",
    "\n",
    "# Values\n",
    "XforTPOT = df_vegetable.drop(\"Price per kg\", axis = 1)\n",
    "yforTPOT = df_vegetable[\"Price per kg\"]\n",
    "\n",
    "# One-Hot Encoding\n",
    "XforTPOT = pd.get_dummies(XforTPOT, columns = cat_col)\n",
    "\n",
    "# Train-Test Split\n",
    "X_trainforTPOT, X_testforTPOT, y_trainforTPOT, y_testforTPOT = train_test_split(XforTPOT, yforTPOT, test_size= 0.25)\n",
    "\n",
    "# Cross-Validation\n",
    "cv = RepeatedStratifiedKFold(n_splits = 5, n_repeats = 3, random_state = 1)"
   ]
  },
  {
   "cell_type": "markdown",
   "id": "ed760aa7-fae3-4a36-898b-adc80f778b35",
   "metadata": {
    "id": "ed760aa7-fae3-4a36-898b-adc80f778b35"
   },
   "source": [
    "### Définition modèle"
   ]
  },
  {
   "cell_type": "code",
   "execution_count": null,
   "id": "775f7bb2-bf47-4dcf-9324-3d963a9b39b9",
   "metadata": {
    "id": "775f7bb2-bf47-4dcf-9324-3d963a9b39b9"
   },
   "outputs": [],
   "source": [
    "# Model Definition\n",
    "modelTPOT = TPOTRegressor(\n",
    "    generations = 10,\n",
    "    population_size = 20,\n",
    "    cv = cv,\n",
    "    scoring = \"neg_mean_squared_error\",\n",
    "    verbosity = 2,\n",
    "    n_jobs = -2,\n",
    "    random_state = 1,\n",
    ")"
   ]
  },
  {
   "cell_type": "markdown",
   "id": "5bf9acaa-2726-4dd4-893c-de31fc57e750",
   "metadata": {
    "id": "5bf9acaa-2726-4dd4-893c-de31fc57e750"
   },
   "source": [
    "### Entraînement modèle"
   ]
  },
  {
   "cell_type": "code",
   "execution_count": null,
   "id": "ac14d477-4fa7-4034-8308-d48eda9eea43",
   "metadata": {
    "colab": {
     "base_uri": "https://localhost:8080/",
     "height": 516,
     "referenced_widgets": [
      "0559b4a88f644ecc9ff545e0d4a52c5d",
      "72f3729dcb6f4734b4f762945a36afbd",
      "ea6f0d5e6d4f473080056a5c07ac9e61",
      "6e4cfd69720e42e88492980a00f2ce8d",
      "7545341e5abb4581b69f356284c57a02",
      "e5716d1f656141d09a5793e5838541eb",
      "2aed8823e175487da93ff3d5aa3e36ea",
      "44651b13745e4ecbba06173b9b78a9f8",
      "392abbf28d2b4738a09dd7bc66761699",
      "a1a66de03bd9481786b75abde94415f9",
      "8e47027d1f4f45b5a5949191e54b77db"
     ]
    },
    "executionInfo": {
     "elapsed": 242089,
     "status": "ok",
     "timestamp": 1729763505709,
     "user": {
      "displayName": "Maimouna Timera",
      "userId": "04209297556515896791"
     },
     "user_tz": -120
    },
    "id": "ac14d477-4fa7-4034-8308-d48eda9eea43",
    "outputId": "960e20b0-98e6-44c4-ee0c-b953856b5d45"
   },
   "outputs": [
    {
     "data": {
      "application/vnd.jupyter.widget-view+json": {
       "model_id": "0559b4a88f644ecc9ff545e0d4a52c5d",
       "version_major": 2,
       "version_minor": 0
      },
      "text/plain": [
       "Optimization Progress:   0%|          | 0/220 [00:00<?, ?pipeline/s]"
      ]
     },
     "metadata": {},
     "output_type": "display_data"
    },
    {
     "name": "stdout",
     "output_type": "stream",
     "text": [
      "\n",
      "Generation 1 - Current best internal CV score: -654.8172552873506\n",
      "\n",
      "Generation 2 - Current best internal CV score: -654.8172552873506\n",
      "\n",
      "Generation 3 - Current best internal CV score: -654.8172552873506\n",
      "\n",
      "Generation 4 - Current best internal CV score: -654.8172552873506\n",
      "\n",
      "Generation 5 - Current best internal CV score: -574.9466521513821\n",
      "\n",
      "Generation 6 - Current best internal CV score: -574.9466521513821\n",
      "\n",
      "Generation 7 - Current best internal CV score: -574.9466521513821\n",
      "\n",
      "Generation 8 - Current best internal CV score: -574.9466521513821\n",
      "\n",
      "Generation 9 - Current best internal CV score: -537.7708478616972\n",
      "\n",
      "Generation 10 - Current best internal CV score: -511.6678154352945\n",
      "\n",
      "Best pipeline: KNeighborsRegressor(AdaBoostRegressor(MinMaxScaler(input_matrix), learning_rate=0.001, loss=exponential, n_estimators=100), n_neighbors=71, p=2, weights=distance)\n"
     ]
    },
    {
     "data": {
      "text/html": [
       "<style>#sk-container-id-1 {\n",
       "  /* Definition of color scheme common for light and dark mode */\n",
       "  --sklearn-color-text: black;\n",
       "  --sklearn-color-line: gray;\n",
       "  /* Definition of color scheme for unfitted estimators */\n",
       "  --sklearn-color-unfitted-level-0: #fff5e6;\n",
       "  --sklearn-color-unfitted-level-1: #f6e4d2;\n",
       "  --sklearn-color-unfitted-level-2: #ffe0b3;\n",
       "  --sklearn-color-unfitted-level-3: chocolate;\n",
       "  /* Definition of color scheme for fitted estimators */\n",
       "  --sklearn-color-fitted-level-0: #f0f8ff;\n",
       "  --sklearn-color-fitted-level-1: #d4ebff;\n",
       "  --sklearn-color-fitted-level-2: #b3dbfd;\n",
       "  --sklearn-color-fitted-level-3: cornflowerblue;\n",
       "\n",
       "  /* Specific color for light theme */\n",
       "  --sklearn-color-text-on-default-background: var(--sg-text-color, var(--theme-code-foreground, var(--jp-content-font-color1, black)));\n",
       "  --sklearn-color-background: var(--sg-background-color, var(--theme-background, var(--jp-layout-color0, white)));\n",
       "  --sklearn-color-border-box: var(--sg-text-color, var(--theme-code-foreground, var(--jp-content-font-color1, black)));\n",
       "  --sklearn-color-icon: #696969;\n",
       "\n",
       "  @media (prefers-color-scheme: dark) {\n",
       "    /* Redefinition of color scheme for dark theme */\n",
       "    --sklearn-color-text-on-default-background: var(--sg-text-color, var(--theme-code-foreground, var(--jp-content-font-color1, white)));\n",
       "    --sklearn-color-background: var(--sg-background-color, var(--theme-background, var(--jp-layout-color0, #111)));\n",
       "    --sklearn-color-border-box: var(--sg-text-color, var(--theme-code-foreground, var(--jp-content-font-color1, white)));\n",
       "    --sklearn-color-icon: #878787;\n",
       "  }\n",
       "}\n",
       "\n",
       "#sk-container-id-1 {\n",
       "  color: var(--sklearn-color-text);\n",
       "}\n",
       "\n",
       "#sk-container-id-1 pre {\n",
       "  padding: 0;\n",
       "}\n",
       "\n",
       "#sk-container-id-1 input.sk-hidden--visually {\n",
       "  border: 0;\n",
       "  clip: rect(1px 1px 1px 1px);\n",
       "  clip: rect(1px, 1px, 1px, 1px);\n",
       "  height: 1px;\n",
       "  margin: -1px;\n",
       "  overflow: hidden;\n",
       "  padding: 0;\n",
       "  position: absolute;\n",
       "  width: 1px;\n",
       "}\n",
       "\n",
       "#sk-container-id-1 div.sk-dashed-wrapped {\n",
       "  border: 1px dashed var(--sklearn-color-line);\n",
       "  margin: 0 0.4em 0.5em 0.4em;\n",
       "  box-sizing: border-box;\n",
       "  padding-bottom: 0.4em;\n",
       "  background-color: var(--sklearn-color-background);\n",
       "}\n",
       "\n",
       "#sk-container-id-1 div.sk-container {\n",
       "  /* jupyter's `normalize.less` sets `[hidden] { display: none; }`\n",
       "     but bootstrap.min.css set `[hidden] { display: none !important; }`\n",
       "     so we also need the `!important` here to be able to override the\n",
       "     default hidden behavior on the sphinx rendered scikit-learn.org.\n",
       "     See: https://github.com/scikit-learn/scikit-learn/issues/21755 */\n",
       "  display: inline-block !important;\n",
       "  position: relative;\n",
       "}\n",
       "\n",
       "#sk-container-id-1 div.sk-text-repr-fallback {\n",
       "  display: none;\n",
       "}\n",
       "\n",
       "div.sk-parallel-item,\n",
       "div.sk-serial,\n",
       "div.sk-item {\n",
       "  /* draw centered vertical line to link estimators */\n",
       "  background-image: linear-gradient(var(--sklearn-color-text-on-default-background), var(--sklearn-color-text-on-default-background));\n",
       "  background-size: 2px 100%;\n",
       "  background-repeat: no-repeat;\n",
       "  background-position: center center;\n",
       "}\n",
       "\n",
       "/* Parallel-specific style estimator block */\n",
       "\n",
       "#sk-container-id-1 div.sk-parallel-item::after {\n",
       "  content: \"\";\n",
       "  width: 100%;\n",
       "  border-bottom: 2px solid var(--sklearn-color-text-on-default-background);\n",
       "  flex-grow: 1;\n",
       "}\n",
       "\n",
       "#sk-container-id-1 div.sk-parallel {\n",
       "  display: flex;\n",
       "  align-items: stretch;\n",
       "  justify-content: center;\n",
       "  background-color: var(--sklearn-color-background);\n",
       "  position: relative;\n",
       "}\n",
       "\n",
       "#sk-container-id-1 div.sk-parallel-item {\n",
       "  display: flex;\n",
       "  flex-direction: column;\n",
       "}\n",
       "\n",
       "#sk-container-id-1 div.sk-parallel-item:first-child::after {\n",
       "  align-self: flex-end;\n",
       "  width: 50%;\n",
       "}\n",
       "\n",
       "#sk-container-id-1 div.sk-parallel-item:last-child::after {\n",
       "  align-self: flex-start;\n",
       "  width: 50%;\n",
       "}\n",
       "\n",
       "#sk-container-id-1 div.sk-parallel-item:only-child::after {\n",
       "  width: 0;\n",
       "}\n",
       "\n",
       "/* Serial-specific style estimator block */\n",
       "\n",
       "#sk-container-id-1 div.sk-serial {\n",
       "  display: flex;\n",
       "  flex-direction: column;\n",
       "  align-items: center;\n",
       "  background-color: var(--sklearn-color-background);\n",
       "  padding-right: 1em;\n",
       "  padding-left: 1em;\n",
       "}\n",
       "\n",
       "\n",
       "/* Toggleable style: style used for estimator/Pipeline/ColumnTransformer box that is\n",
       "clickable and can be expanded/collapsed.\n",
       "- Pipeline and ColumnTransformer use this feature and define the default style\n",
       "- Estimators will overwrite some part of the style using the `sk-estimator` class\n",
       "*/\n",
       "\n",
       "/* Pipeline and ColumnTransformer style (default) */\n",
       "\n",
       "#sk-container-id-1 div.sk-toggleable {\n",
       "  /* Default theme specific background. It is overwritten whether we have a\n",
       "  specific estimator or a Pipeline/ColumnTransformer */\n",
       "  background-color: var(--sklearn-color-background);\n",
       "}\n",
       "\n",
       "/* Toggleable label */\n",
       "#sk-container-id-1 label.sk-toggleable__label {\n",
       "  cursor: pointer;\n",
       "  display: block;\n",
       "  width: 100%;\n",
       "  margin-bottom: 0;\n",
       "  padding: 0.5em;\n",
       "  box-sizing: border-box;\n",
       "  text-align: center;\n",
       "}\n",
       "\n",
       "#sk-container-id-1 label.sk-toggleable__label-arrow:before {\n",
       "  /* Arrow on the left of the label */\n",
       "  content: \"▸\";\n",
       "  float: left;\n",
       "  margin-right: 0.25em;\n",
       "  color: var(--sklearn-color-icon);\n",
       "}\n",
       "\n",
       "#sk-container-id-1 label.sk-toggleable__label-arrow:hover:before {\n",
       "  color: var(--sklearn-color-text);\n",
       "}\n",
       "\n",
       "/* Toggleable content - dropdown */\n",
       "\n",
       "#sk-container-id-1 div.sk-toggleable__content {\n",
       "  max-height: 0;\n",
       "  max-width: 0;\n",
       "  overflow: hidden;\n",
       "  text-align: left;\n",
       "  /* unfitted */\n",
       "  background-color: var(--sklearn-color-unfitted-level-0);\n",
       "}\n",
       "\n",
       "#sk-container-id-1 div.sk-toggleable__content.fitted {\n",
       "  /* fitted */\n",
       "  background-color: var(--sklearn-color-fitted-level-0);\n",
       "}\n",
       "\n",
       "#sk-container-id-1 div.sk-toggleable__content pre {\n",
       "  margin: 0.2em;\n",
       "  border-radius: 0.25em;\n",
       "  color: var(--sklearn-color-text);\n",
       "  /* unfitted */\n",
       "  background-color: var(--sklearn-color-unfitted-level-0);\n",
       "}\n",
       "\n",
       "#sk-container-id-1 div.sk-toggleable__content.fitted pre {\n",
       "  /* unfitted */\n",
       "  background-color: var(--sklearn-color-fitted-level-0);\n",
       "}\n",
       "\n",
       "#sk-container-id-1 input.sk-toggleable__control:checked~div.sk-toggleable__content {\n",
       "  /* Expand drop-down */\n",
       "  max-height: 200px;\n",
       "  max-width: 100%;\n",
       "  overflow: auto;\n",
       "}\n",
       "\n",
       "#sk-container-id-1 input.sk-toggleable__control:checked~label.sk-toggleable__label-arrow:before {\n",
       "  content: \"▾\";\n",
       "}\n",
       "\n",
       "/* Pipeline/ColumnTransformer-specific style */\n",
       "\n",
       "#sk-container-id-1 div.sk-label input.sk-toggleable__control:checked~label.sk-toggleable__label {\n",
       "  color: var(--sklearn-color-text);\n",
       "  background-color: var(--sklearn-color-unfitted-level-2);\n",
       "}\n",
       "\n",
       "#sk-container-id-1 div.sk-label.fitted input.sk-toggleable__control:checked~label.sk-toggleable__label {\n",
       "  background-color: var(--sklearn-color-fitted-level-2);\n",
       "}\n",
       "\n",
       "/* Estimator-specific style */\n",
       "\n",
       "/* Colorize estimator box */\n",
       "#sk-container-id-1 div.sk-estimator input.sk-toggleable__control:checked~label.sk-toggleable__label {\n",
       "  /* unfitted */\n",
       "  background-color: var(--sklearn-color-unfitted-level-2);\n",
       "}\n",
       "\n",
       "#sk-container-id-1 div.sk-estimator.fitted input.sk-toggleable__control:checked~label.sk-toggleable__label {\n",
       "  /* fitted */\n",
       "  background-color: var(--sklearn-color-fitted-level-2);\n",
       "}\n",
       "\n",
       "#sk-container-id-1 div.sk-label label.sk-toggleable__label,\n",
       "#sk-container-id-1 div.sk-label label {\n",
       "  /* The background is the default theme color */\n",
       "  color: var(--sklearn-color-text-on-default-background);\n",
       "}\n",
       "\n",
       "/* On hover, darken the color of the background */\n",
       "#sk-container-id-1 div.sk-label:hover label.sk-toggleable__label {\n",
       "  color: var(--sklearn-color-text);\n",
       "  background-color: var(--sklearn-color-unfitted-level-2);\n",
       "}\n",
       "\n",
       "/* Label box, darken color on hover, fitted */\n",
       "#sk-container-id-1 div.sk-label.fitted:hover label.sk-toggleable__label.fitted {\n",
       "  color: var(--sklearn-color-text);\n",
       "  background-color: var(--sklearn-color-fitted-level-2);\n",
       "}\n",
       "\n",
       "/* Estimator label */\n",
       "\n",
       "#sk-container-id-1 div.sk-label label {\n",
       "  font-family: monospace;\n",
       "  font-weight: bold;\n",
       "  display: inline-block;\n",
       "  line-height: 1.2em;\n",
       "}\n",
       "\n",
       "#sk-container-id-1 div.sk-label-container {\n",
       "  text-align: center;\n",
       "}\n",
       "\n",
       "/* Estimator-specific */\n",
       "#sk-container-id-1 div.sk-estimator {\n",
       "  font-family: monospace;\n",
       "  border: 1px dotted var(--sklearn-color-border-box);\n",
       "  border-radius: 0.25em;\n",
       "  box-sizing: border-box;\n",
       "  margin-bottom: 0.5em;\n",
       "  /* unfitted */\n",
       "  background-color: var(--sklearn-color-unfitted-level-0);\n",
       "}\n",
       "\n",
       "#sk-container-id-1 div.sk-estimator.fitted {\n",
       "  /* fitted */\n",
       "  background-color: var(--sklearn-color-fitted-level-0);\n",
       "}\n",
       "\n",
       "/* on hover */\n",
       "#sk-container-id-1 div.sk-estimator:hover {\n",
       "  /* unfitted */\n",
       "  background-color: var(--sklearn-color-unfitted-level-2);\n",
       "}\n",
       "\n",
       "#sk-container-id-1 div.sk-estimator.fitted:hover {\n",
       "  /* fitted */\n",
       "  background-color: var(--sklearn-color-fitted-level-2);\n",
       "}\n",
       "\n",
       "/* Specification for estimator info (e.g. \"i\" and \"?\") */\n",
       "\n",
       "/* Common style for \"i\" and \"?\" */\n",
       "\n",
       ".sk-estimator-doc-link,\n",
       "a:link.sk-estimator-doc-link,\n",
       "a:visited.sk-estimator-doc-link {\n",
       "  float: right;\n",
       "  font-size: smaller;\n",
       "  line-height: 1em;\n",
       "  font-family: monospace;\n",
       "  background-color: var(--sklearn-color-background);\n",
       "  border-radius: 1em;\n",
       "  height: 1em;\n",
       "  width: 1em;\n",
       "  text-decoration: none !important;\n",
       "  margin-left: 1ex;\n",
       "  /* unfitted */\n",
       "  border: var(--sklearn-color-unfitted-level-1) 1pt solid;\n",
       "  color: var(--sklearn-color-unfitted-level-1);\n",
       "}\n",
       "\n",
       ".sk-estimator-doc-link.fitted,\n",
       "a:link.sk-estimator-doc-link.fitted,\n",
       "a:visited.sk-estimator-doc-link.fitted {\n",
       "  /* fitted */\n",
       "  border: var(--sklearn-color-fitted-level-1) 1pt solid;\n",
       "  color: var(--sklearn-color-fitted-level-1);\n",
       "}\n",
       "\n",
       "/* On hover */\n",
       "div.sk-estimator:hover .sk-estimator-doc-link:hover,\n",
       ".sk-estimator-doc-link:hover,\n",
       "div.sk-label-container:hover .sk-estimator-doc-link:hover,\n",
       ".sk-estimator-doc-link:hover {\n",
       "  /* unfitted */\n",
       "  background-color: var(--sklearn-color-unfitted-level-3);\n",
       "  color: var(--sklearn-color-background);\n",
       "  text-decoration: none;\n",
       "}\n",
       "\n",
       "div.sk-estimator.fitted:hover .sk-estimator-doc-link.fitted:hover,\n",
       ".sk-estimator-doc-link.fitted:hover,\n",
       "div.sk-label-container:hover .sk-estimator-doc-link.fitted:hover,\n",
       ".sk-estimator-doc-link.fitted:hover {\n",
       "  /* fitted */\n",
       "  background-color: var(--sklearn-color-fitted-level-3);\n",
       "  color: var(--sklearn-color-background);\n",
       "  text-decoration: none;\n",
       "}\n",
       "\n",
       "/* Span, style for the box shown on hovering the info icon */\n",
       ".sk-estimator-doc-link span {\n",
       "  display: none;\n",
       "  z-index: 9999;\n",
       "  position: relative;\n",
       "  font-weight: normal;\n",
       "  right: .2ex;\n",
       "  padding: .5ex;\n",
       "  margin: .5ex;\n",
       "  width: min-content;\n",
       "  min-width: 20ex;\n",
       "  max-width: 50ex;\n",
       "  color: var(--sklearn-color-text);\n",
       "  box-shadow: 2pt 2pt 4pt #999;\n",
       "  /* unfitted */\n",
       "  background: var(--sklearn-color-unfitted-level-0);\n",
       "  border: .5pt solid var(--sklearn-color-unfitted-level-3);\n",
       "}\n",
       "\n",
       ".sk-estimator-doc-link.fitted span {\n",
       "  /* fitted */\n",
       "  background: var(--sklearn-color-fitted-level-0);\n",
       "  border: var(--sklearn-color-fitted-level-3);\n",
       "}\n",
       "\n",
       ".sk-estimator-doc-link:hover span {\n",
       "  display: block;\n",
       "}\n",
       "\n",
       "/* \"?\"-specific style due to the `<a>` HTML tag */\n",
       "\n",
       "#sk-container-id-1 a.estimator_doc_link {\n",
       "  float: right;\n",
       "  font-size: 1rem;\n",
       "  line-height: 1em;\n",
       "  font-family: monospace;\n",
       "  background-color: var(--sklearn-color-background);\n",
       "  border-radius: 1rem;\n",
       "  height: 1rem;\n",
       "  width: 1rem;\n",
       "  text-decoration: none;\n",
       "  /* unfitted */\n",
       "  color: var(--sklearn-color-unfitted-level-1);\n",
       "  border: var(--sklearn-color-unfitted-level-1) 1pt solid;\n",
       "}\n",
       "\n",
       "#sk-container-id-1 a.estimator_doc_link.fitted {\n",
       "  /* fitted */\n",
       "  border: var(--sklearn-color-fitted-level-1) 1pt solid;\n",
       "  color: var(--sklearn-color-fitted-level-1);\n",
       "}\n",
       "\n",
       "/* On hover */\n",
       "#sk-container-id-1 a.estimator_doc_link:hover {\n",
       "  /* unfitted */\n",
       "  background-color: var(--sklearn-color-unfitted-level-3);\n",
       "  color: var(--sklearn-color-background);\n",
       "  text-decoration: none;\n",
       "}\n",
       "\n",
       "#sk-container-id-1 a.estimator_doc_link.fitted:hover {\n",
       "  /* fitted */\n",
       "  background-color: var(--sklearn-color-fitted-level-3);\n",
       "}\n",
       "</style><div id=\"sk-container-id-1\" class=\"sk-top-container\"><div class=\"sk-text-repr-fallback\"><pre>TPOTRegressor(cv=RepeatedStratifiedKFold(n_repeats=3, n_splits=5, random_state=1),\n",
       "              generations=10, n_jobs=-2, population_size=20, random_state=1,\n",
       "              scoring=&#x27;neg_mean_squared_error&#x27;, verbosity=2)</pre><b>In a Jupyter environment, please rerun this cell to show the HTML representation or trust the notebook. <br />On GitHub, the HTML representation is unable to render, please try loading this page with nbviewer.org.</b></div><div class=\"sk-container\" hidden><div class=\"sk-item\"><div class=\"sk-estimator fitted sk-toggleable\"><input class=\"sk-toggleable__control sk-hidden--visually\" id=\"sk-estimator-id-1\" type=\"checkbox\" checked><label for=\"sk-estimator-id-1\" class=\"sk-toggleable__label fitted sk-toggleable__label-arrow fitted\">&nbsp;TPOTRegressor<span class=\"sk-estimator-doc-link fitted\">i<span>Fitted</span></span></label><div class=\"sk-toggleable__content fitted\"><pre>TPOTRegressor(cv=RepeatedStratifiedKFold(n_repeats=3, n_splits=5, random_state=1),\n",
       "              generations=10, n_jobs=-2, population_size=20, random_state=1,\n",
       "              scoring=&#x27;neg_mean_squared_error&#x27;, verbosity=2)</pre></div> </div></div></div></div>"
      ],
      "text/plain": [
       "TPOTRegressor(cv=RepeatedStratifiedKFold(n_repeats=3, n_splits=5, random_state=1),\n",
       "              generations=10, n_jobs=-2, population_size=20, random_state=1,\n",
       "              scoring='neg_mean_squared_error', verbosity=2)"
      ]
     },
     "execution_count": 23,
     "metadata": {},
     "output_type": "execute_result"
    }
   ],
   "source": [
    "# Fitting\n",
    "modelTPOT.fit(X_trainforTPOT, y_trainforTPOT)"
   ]
  },
  {
   "cell_type": "markdown",
   "id": "d00c2960-d097-4f10-a094-589ffba89756",
   "metadata": {
    "id": "d00c2960-d097-4f10-a094-589ffba89756"
   },
   "source": [
    "### Affichage du score"
   ]
  },
  {
   "cell_type": "code",
   "execution_count": null,
   "id": "092e1888-1cf7-4233-8856-f626572ff63b",
   "metadata": {
    "colab": {
     "base_uri": "https://localhost:8080/"
    },
    "executionInfo": {
     "elapsed": 354,
     "status": "ok",
     "timestamp": 1729763506057,
     "user": {
      "displayName": "Maimouna Timera",
      "userId": "04209297556515896791"
     },
     "user_tz": -120
    },
    "id": "092e1888-1cf7-4233-8856-f626572ff63b",
    "outputId": "340c0af1-a409-4e90-c314-62795eeb45a9"
   },
   "outputs": [
    {
     "name": "stdout",
     "output_type": "stream",
     "text": [
      "-1591.1442796503904\n"
     ]
    }
   ],
   "source": [
    "# Print Score\n",
    "accuracy_score = modelTPOT.score(X_testforTPOT, y_testforTPOT)\n",
    "print(accuracy_score)"
   ]
  },
  {
   "cell_type": "markdown",
   "id": "27e43cbf-b146-4a1b-9ab1-3d9967fed07b",
   "metadata": {
    "id": "27e43cbf-b146-4a1b-9ab1-3d9967fed07b"
   },
   "source": [
    "## Export du modèle"
   ]
  },
  {
   "cell_type": "code",
   "execution_count": null,
   "id": "cb45fe84-62a3-4b07-84f6-5f653b4f161b",
   "metadata": {
    "id": "cb45fe84-62a3-4b07-84f6-5f653b4f161b"
   },
   "outputs": [],
   "source": [
    "# Export Model\n",
    "modelTPOT.export(f\"Vegetable_TPOT.py\")"
   ]
  }
 ],
 "metadata": {
  "colab": {
   "provenance": []
  },
  "kernelspec": {
   "display_name": "Python 3 (ipykernel)",
   "language": "python",
   "name": "python3"
  },
  "language_info": {
   "codemirror_mode": {
    "name": "ipython",
    "version": 3
   },
   "file_extension": ".py",
   "mimetype": "text/x-python",
   "name": "python",
   "nbconvert_exporter": "python",
   "pygments_lexer": "ipython3",
   "version": "3.9.12"
  },
  "widgets": {
   "application/vnd.jupyter.widget-state+json": {
    "0559b4a88f644ecc9ff545e0d4a52c5d": {
     "model_module": "@jupyter-widgets/controls",
     "model_module_version": "1.5.0",
     "model_name": "HBoxModel",
     "state": {
      "_dom_classes": [],
      "_model_module": "@jupyter-widgets/controls",
      "_model_module_version": "1.5.0",
      "_model_name": "HBoxModel",
      "_view_count": null,
      "_view_module": "@jupyter-widgets/controls",
      "_view_module_version": "1.5.0",
      "_view_name": "HBoxView",
      "box_style": "",
      "children": [
       "IPY_MODEL_72f3729dcb6f4734b4f762945a36afbd",
       "IPY_MODEL_ea6f0d5e6d4f473080056a5c07ac9e61",
       "IPY_MODEL_6e4cfd69720e42e88492980a00f2ce8d"
      ],
      "layout": "IPY_MODEL_7545341e5abb4581b69f356284c57a02"
     }
    },
    "2aed8823e175487da93ff3d5aa3e36ea": {
     "model_module": "@jupyter-widgets/controls",
     "model_module_version": "1.5.0",
     "model_name": "DescriptionStyleModel",
     "state": {
      "_model_module": "@jupyter-widgets/controls",
      "_model_module_version": "1.5.0",
      "_model_name": "DescriptionStyleModel",
      "_view_count": null,
      "_view_module": "@jupyter-widgets/base",
      "_view_module_version": "1.2.0",
      "_view_name": "StyleView",
      "description_width": ""
     }
    },
    "392abbf28d2b4738a09dd7bc66761699": {
     "model_module": "@jupyter-widgets/controls",
     "model_module_version": "1.5.0",
     "model_name": "ProgressStyleModel",
     "state": {
      "_model_module": "@jupyter-widgets/controls",
      "_model_module_version": "1.5.0",
      "_model_name": "ProgressStyleModel",
      "_view_count": null,
      "_view_module": "@jupyter-widgets/base",
      "_view_module_version": "1.2.0",
      "_view_name": "StyleView",
      "bar_color": null,
      "description_width": ""
     }
    },
    "44651b13745e4ecbba06173b9b78a9f8": {
     "model_module": "@jupyter-widgets/base",
     "model_module_version": "1.2.0",
     "model_name": "LayoutModel",
     "state": {
      "_model_module": "@jupyter-widgets/base",
      "_model_module_version": "1.2.0",
      "_model_name": "LayoutModel",
      "_view_count": null,
      "_view_module": "@jupyter-widgets/base",
      "_view_module_version": "1.2.0",
      "_view_name": "LayoutView",
      "align_content": null,
      "align_items": null,
      "align_self": null,
      "border": null,
      "bottom": null,
      "display": null,
      "flex": null,
      "flex_flow": null,
      "grid_area": null,
      "grid_auto_columns": null,
      "grid_auto_flow": null,
      "grid_auto_rows": null,
      "grid_column": null,
      "grid_gap": null,
      "grid_row": null,
      "grid_template_areas": null,
      "grid_template_columns": null,
      "grid_template_rows": null,
      "height": null,
      "justify_content": null,
      "justify_items": null,
      "left": null,
      "margin": null,
      "max_height": null,
      "max_width": null,
      "min_height": null,
      "min_width": null,
      "object_fit": null,
      "object_position": null,
      "order": null,
      "overflow": null,
      "overflow_x": null,
      "overflow_y": null,
      "padding": null,
      "right": null,
      "top": null,
      "visibility": null,
      "width": null
     }
    },
    "6e4cfd69720e42e88492980a00f2ce8d": {
     "model_module": "@jupyter-widgets/controls",
     "model_module_version": "1.5.0",
     "model_name": "HTMLModel",
     "state": {
      "_dom_classes": [],
      "_model_module": "@jupyter-widgets/controls",
      "_model_module_version": "1.5.0",
      "_model_name": "HTMLModel",
      "_view_count": null,
      "_view_module": "@jupyter-widgets/controls",
      "_view_module_version": "1.5.0",
      "_view_name": "HTMLView",
      "description": "",
      "description_tooltip": null,
      "layout": "IPY_MODEL_a1a66de03bd9481786b75abde94415f9",
      "placeholder": "​",
      "style": "IPY_MODEL_8e47027d1f4f45b5a5949191e54b77db",
      "value": " 220/220 [04:00&lt;00:00,  1.56pipeline/s]"
     }
    },
    "72f3729dcb6f4734b4f762945a36afbd": {
     "model_module": "@jupyter-widgets/controls",
     "model_module_version": "1.5.0",
     "model_name": "HTMLModel",
     "state": {
      "_dom_classes": [],
      "_model_module": "@jupyter-widgets/controls",
      "_model_module_version": "1.5.0",
      "_model_name": "HTMLModel",
      "_view_count": null,
      "_view_module": "@jupyter-widgets/controls",
      "_view_module_version": "1.5.0",
      "_view_name": "HTMLView",
      "description": "",
      "description_tooltip": null,
      "layout": "IPY_MODEL_e5716d1f656141d09a5793e5838541eb",
      "placeholder": "​",
      "style": "IPY_MODEL_2aed8823e175487da93ff3d5aa3e36ea",
      "value": "Optimization Progress: 100%"
     }
    },
    "7545341e5abb4581b69f356284c57a02": {
     "model_module": "@jupyter-widgets/base",
     "model_module_version": "1.2.0",
     "model_name": "LayoutModel",
     "state": {
      "_model_module": "@jupyter-widgets/base",
      "_model_module_version": "1.2.0",
      "_model_name": "LayoutModel",
      "_view_count": null,
      "_view_module": "@jupyter-widgets/base",
      "_view_module_version": "1.2.0",
      "_view_name": "LayoutView",
      "align_content": null,
      "align_items": null,
      "align_self": null,
      "border": null,
      "bottom": null,
      "display": null,
      "flex": null,
      "flex_flow": null,
      "grid_area": null,
      "grid_auto_columns": null,
      "grid_auto_flow": null,
      "grid_auto_rows": null,
      "grid_column": null,
      "grid_gap": null,
      "grid_row": null,
      "grid_template_areas": null,
      "grid_template_columns": null,
      "grid_template_rows": null,
      "height": null,
      "justify_content": null,
      "justify_items": null,
      "left": null,
      "margin": null,
      "max_height": null,
      "max_width": null,
      "min_height": null,
      "min_width": null,
      "object_fit": null,
      "object_position": null,
      "order": null,
      "overflow": null,
      "overflow_x": null,
      "overflow_y": null,
      "padding": null,
      "right": null,
      "top": null,
      "visibility": "hidden",
      "width": null
     }
    },
    "8e47027d1f4f45b5a5949191e54b77db": {
     "model_module": "@jupyter-widgets/controls",
     "model_module_version": "1.5.0",
     "model_name": "DescriptionStyleModel",
     "state": {
      "_model_module": "@jupyter-widgets/controls",
      "_model_module_version": "1.5.0",
      "_model_name": "DescriptionStyleModel",
      "_view_count": null,
      "_view_module": "@jupyter-widgets/base",
      "_view_module_version": "1.2.0",
      "_view_name": "StyleView",
      "description_width": ""
     }
    },
    "a1a66de03bd9481786b75abde94415f9": {
     "model_module": "@jupyter-widgets/base",
     "model_module_version": "1.2.0",
     "model_name": "LayoutModel",
     "state": {
      "_model_module": "@jupyter-widgets/base",
      "_model_module_version": "1.2.0",
      "_model_name": "LayoutModel",
      "_view_count": null,
      "_view_module": "@jupyter-widgets/base",
      "_view_module_version": "1.2.0",
      "_view_name": "LayoutView",
      "align_content": null,
      "align_items": null,
      "align_self": null,
      "border": null,
      "bottom": null,
      "display": null,
      "flex": null,
      "flex_flow": null,
      "grid_area": null,
      "grid_auto_columns": null,
      "grid_auto_flow": null,
      "grid_auto_rows": null,
      "grid_column": null,
      "grid_gap": null,
      "grid_row": null,
      "grid_template_areas": null,
      "grid_template_columns": null,
      "grid_template_rows": null,
      "height": null,
      "justify_content": null,
      "justify_items": null,
      "left": null,
      "margin": null,
      "max_height": null,
      "max_width": null,
      "min_height": null,
      "min_width": null,
      "object_fit": null,
      "object_position": null,
      "order": null,
      "overflow": null,
      "overflow_x": null,
      "overflow_y": null,
      "padding": null,
      "right": null,
      "top": null,
      "visibility": null,
      "width": null
     }
    },
    "e5716d1f656141d09a5793e5838541eb": {
     "model_module": "@jupyter-widgets/base",
     "model_module_version": "1.2.0",
     "model_name": "LayoutModel",
     "state": {
      "_model_module": "@jupyter-widgets/base",
      "_model_module_version": "1.2.0",
      "_model_name": "LayoutModel",
      "_view_count": null,
      "_view_module": "@jupyter-widgets/base",
      "_view_module_version": "1.2.0",
      "_view_name": "LayoutView",
      "align_content": null,
      "align_items": null,
      "align_self": null,
      "border": null,
      "bottom": null,
      "display": null,
      "flex": null,
      "flex_flow": null,
      "grid_area": null,
      "grid_auto_columns": null,
      "grid_auto_flow": null,
      "grid_auto_rows": null,
      "grid_column": null,
      "grid_gap": null,
      "grid_row": null,
      "grid_template_areas": null,
      "grid_template_columns": null,
      "grid_template_rows": null,
      "height": null,
      "justify_content": null,
      "justify_items": null,
      "left": null,
      "margin": null,
      "max_height": null,
      "max_width": null,
      "min_height": null,
      "min_width": null,
      "object_fit": null,
      "object_position": null,
      "order": null,
      "overflow": null,
      "overflow_x": null,
      "overflow_y": null,
      "padding": null,
      "right": null,
      "top": null,
      "visibility": null,
      "width": null
     }
    },
    "ea6f0d5e6d4f473080056a5c07ac9e61": {
     "model_module": "@jupyter-widgets/controls",
     "model_module_version": "1.5.0",
     "model_name": "FloatProgressModel",
     "state": {
      "_dom_classes": [],
      "_model_module": "@jupyter-widgets/controls",
      "_model_module_version": "1.5.0",
      "_model_name": "FloatProgressModel",
      "_view_count": null,
      "_view_module": "@jupyter-widgets/controls",
      "_view_module_version": "1.5.0",
      "_view_name": "ProgressView",
      "bar_style": "",
      "description": "",
      "description_tooltip": null,
      "layout": "IPY_MODEL_44651b13745e4ecbba06173b9b78a9f8",
      "max": 220,
      "min": 0,
      "orientation": "horizontal",
      "style": "IPY_MODEL_392abbf28d2b4738a09dd7bc66761699",
      "value": 220
     }
    }
   }
  }
 },
 "nbformat": 4,
 "nbformat_minor": 5
}
